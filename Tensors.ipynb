{
  "nbformat": 4,
  "nbformat_minor": 0,
  "metadata": {
    "colab": {
      "provenance": [],
      "authorship_tag": "ABX9TyMP97jQJZf+yqjSpaqPTDw5",
      "include_colab_link": true
    },
    "kernelspec": {
      "name": "python3",
      "display_name": "Python 3"
    },
    "language_info": {
      "name": "python"
    }
  },
  "cells": [
    {
      "cell_type": "markdown",
      "metadata": {
        "id": "view-in-github",
        "colab_type": "text"
      },
      "source": [
        "<a href=\"https://colab.research.google.com/github/Tankasala25/PyTorch/blob/main/Tensors.ipynb\" target=\"_parent\"><img src=\"https://colab.research.google.com/assets/colab-badge.svg\" alt=\"Open In Colab\"/></a>"
      ]
    },
    {
      "cell_type": "markdown",
      "source": [
        "# 🧠 Understanding Tensors in Deep Learning (Simple Explanation)\n",
        "\n",
        "---\n",
        "\n",
        "## 🔹 What does this mean?\n",
        "> \"Tensors are the central data abstraction in PyTorch. This interactive notebook provides an in-depth introduction to the torch.Tensor class.\"\n",
        "\n",
        "👉 **Simple terms:**  \n",
        "- In PyTorch, **everything you do with data** (images, text, numbers, audio) is stored and worked on using **tensors**.  \n",
        "- A `torch.Tensor` is just a **box for numbers arranged in shapes** (1D, 2D, 3D...).  \n",
        "- This notebook shows how they work.\n"
      ],
      "metadata": {
        "id": "0Gr9Xwxjr6Cr"
      }
    },
    {
      "cell_type": "code",
      "source": [
        "import torch\n",
        "\n",
        "# Example: basic tensor\n",
        "x = torch.tensor([1, 2, 3, 4])\n",
        "print(\"Tensor:\", x)\n",
        "print(\"Shape:\", x.shape)\n"
      ],
      "metadata": {
        "colab": {
          "base_uri": "https://localhost:8080/"
        },
        "id": "QUIIc3ItsB-5",
        "outputId": "f00affdc-5620-42f7-ee11-e7579a04e201"
      },
      "execution_count": null,
      "outputs": [
        {
          "output_type": "stream",
          "name": "stdout",
          "text": [
            "Tensor: tensor([1, 2, 3, 4])\n",
            "Shape: torch.Size([4])\n"
          ]
        }
      ]
    },
    {
      "cell_type": "markdown",
      "source": [
        "## ❓ Question 1:\n",
        "\"I have doubt: everything means data like image, text and numbers are also stored in tensor format, correct?\"\n",
        "\n",
        "✅ **Answer:** Yes!  \n",
        "- Numbers → Tensor  \n",
        "- Images → Tensor  \n",
        "- Text → converted to numbers (tokens) → Tensor  \n",
        "- Audio → Tensor  \n"
      ],
      "metadata": {
        "id": "8PgGmme5sL2N"
      }
    },
    {
      "cell_type": "code",
      "source": [
        "# Number → Tensor\n",
        "num = torch.tensor(5)\n",
        "print(\"Single number tensor:\", num)\n",
        "\n",
        "# List of numbers → Tensor\n",
        "nums = torch.tensor([10, 20, 30])\n",
        "print(\"List tensor:\", nums)\n",
        "\n",
        "# Fake Image (3 channels, 2x2 pixels) → Tensor\n",
        "img = torch.rand(3, 2, 2)\n",
        "print(\"Image tensor shape:\", img.shape)\n",
        "print(\"Image: \",img)\n",
        "\n",
        "# Fake Audio (1 second, 16k samples) → Tensor\n",
        "audio = torch.rand(1, 16000)\n",
        "print(\"Audio tensor shape:\", audio.shape)\n",
        "print(\"Audio: \" ,audio)\n"
      ],
      "metadata": {
        "colab": {
          "base_uri": "https://localhost:8080/"
        },
        "id": "7lxwR_RpsUaI",
        "outputId": "f1bea05d-de31-4ee1-92fe-459d7d56c871"
      },
      "execution_count": null,
      "outputs": [
        {
          "output_type": "stream",
          "name": "stdout",
          "text": [
            "Single number tensor: tensor(5)\n",
            "List tensor: tensor([10, 20, 30])\n",
            "Image tensor shape: torch.Size([3, 2, 2])\n",
            "Image:  tensor([[[0.0026, 0.9657],\n",
            "         [0.0705, 0.1948]],\n",
            "\n",
            "        [[0.3122, 0.6349],\n",
            "         [0.4580, 0.1198]],\n",
            "\n",
            "        [[0.0258, 0.1417],\n",
            "         [0.1125, 0.9030]]])\n",
            "Audio tensor shape: torch.Size([1, 16000])\n",
            "Audio:  tensor([[0.4264, 0.8415, 0.3747,  ..., 0.8852, 0.0064, 0.9995]])\n"
          ]
        }
      ]
    },
    {
      "cell_type": "markdown",
      "source": [
        "## ❓ Question 2:\n",
        "\"Explain in simple terms?\"\n",
        "\n",
        "✅ **Answer:**  \n",
        "Tensors are like **super-powered arrays**:\n",
        "- 1D → list of numbers  \n",
        "- 2D → table (rows × columns)  \n",
        "- 3D → image (channels × height × width)  \n"
      ],
      "metadata": {
        "id": "QcVR-sbVtWf0"
      }
    },
    {
      "cell_type": "code",
      "source": [
        "# 1D Tensor\n",
        "t1 = torch.tensor([1, 2, 3])\n",
        "print(\"1D:\", t1)\n",
        "\n",
        "# 2D Tensor\n",
        "t2 = torch.tensor([[1, 2], [3, 4]])\n",
        "print(\"2D:\\n\", t2)\n",
        "\n",
        "# 3D Tensor (Image shape: channels × height × width)\n",
        "t3 = torch.rand(3, 4, 4)  # 3 channels, 4x4 pixels\n",
        "print(\"3D image tensor shape:\", t3.shape)\n"
      ],
      "metadata": {
        "id": "Val9iyKvtaur"
      },
      "execution_count": null,
      "outputs": []
    },
    {
      "cell_type": "markdown",
      "source": [
        "## ❓ Question 3:\n",
        "\"So in AI/ML, all deep learning models expect tensors, correct, or only PyTorch models?\"\n",
        "\n",
        "✅ **Answer:**  \n",
        "- **All deep learning models expect tensors**, not just PyTorch.  \n",
        "- Different frameworks use their own tensor classes:  \n",
        "  - PyTorch → `torch.Tensor`  \n",
        "  - TensorFlow → `tf.Tensor`  \n",
        "  - JAX → JAX arrays  \n",
        "  - NumPy → `numpy.ndarray` (similar but no GPU by default)  \n"
      ],
      "metadata": {
        "id": "fs0bmmfxtjGX"
      }
    },
    {
      "cell_type": "code",
      "source": [
        "import numpy as np\n",
        "import tensorflow as tf\n",
        "\n",
        "# Same data in NumPy, PyTorch, TensorFlow\n",
        "data = [1, 2, 3]\n",
        "\n",
        "np_array = np.array(data)\n",
        "torch_tensor = torch.tensor(data)\n",
        "tf_tensor = tf.constant(data)\n",
        "\n",
        "print(\"NumPy:\", np_array)\n",
        "print(\"PyTorch:\", torch_tensor)\n",
        "print(\"TensorFlow:\", tf_tensor)\n"
      ],
      "metadata": {
        "colab": {
          "base_uri": "https://localhost:8080/"
        },
        "id": "Ukpq4s3otoLP",
        "outputId": "07a2c6a9-d58b-40e4-ed46-b1f7922ea086"
      },
      "execution_count": null,
      "outputs": [
        {
          "output_type": "stream",
          "name": "stdout",
          "text": [
            "NumPy: [1 2 3]\n",
            "PyTorch: tensor([1, 2, 3])\n",
            "TensorFlow: tf.Tensor([1 2 3], shape=(3,), dtype=int32)\n"
          ]
        }
      ]
    },
    {
      "cell_type": "markdown",
      "source": [
        "## ❓ Question 4:\n",
        "\"Do I have to learn all frameworks of tensors to learn deep learning?\"\n",
        "\n",
        "✅ **Answer:** No.  \n",
        "- Learn **one framework first** (most people choose **PyTorch**).  \n",
        "- All frameworks use the same tensor concept, only the syntax changes.  \n",
        "- Once you know PyTorch, learning TensorFlow or JAX is easy.\n"
      ],
      "metadata": {
        "id": "K4AtvwaTtxd8"
      }
    },
    {
      "cell_type": "code",
      "source": [
        "# Example: Creating the same tensor in different frameworks\n",
        "import tensorflow as tf\n",
        "import torch\n",
        "import numpy as np\n",
        "# PyTorch\n",
        "torch_ex = torch.tensor([1, 2, 3])\n",
        "\n",
        "# TensorFlow\n",
        "tf_ex = tf.constant([1, 2, 3])\n",
        "\n",
        "# NumPy\n",
        "np_ex = np.array([1, 2, 3])\n",
        "\n",
        "print(\"PyTorch:\", torch_ex)\n",
        "print(\"TensorFlow:\", tf_ex)\n",
        "print(\"NumPy:\", np_ex)\n"
      ],
      "metadata": {
        "colab": {
          "base_uri": "https://localhost:8080/"
        },
        "id": "pIiyZ-r7t4vt",
        "outputId": "bc3a6cfb-e42b-4c06-8a58-2ad2a98b4fca"
      },
      "execution_count": null,
      "outputs": [
        {
          "output_type": "stream",
          "name": "stdout",
          "text": [
            "PyTorch: tensor([1, 2, 3])\n",
            "TensorFlow: tf.Tensor([1 2 3], shape=(3,), dtype=int32)\n",
            "NumPy: [1 2 3]\n"
          ]
        }
      ]
    },
    {
      "cell_type": "markdown",
      "source": [
        "# 📌 Why Tensors are Better than Lists/Arrays\n",
        "\n",
        "Tensors are like **Super-Powered arrays**.  \n",
        "They are the core data structure for **AI/ML and Deep Learning**.  \n",
        "Here’s why they are better than normal Python lists or NumPy arrays.\n"
      ],
      "metadata": {
        "id": "o-xzxAo8ulkf"
      }
    },
    {
      "cell_type": "markdown",
      "source": [
        "## 🔹 1. Run on GPU (Super Fast 🚀)\n",
        "\n",
        "- Python lists and NumPy arrays run only on CPU.  \n",
        "- Tensors can run on **GPU** (Graphics Card) or **TPU**.  \n",
        "- This makes deep learning training **much faster**.\n"
      ],
      "metadata": {
        "id": "eVHAbV2ovVid"
      }
    },
    {
      "cell_type": "code",
      "source": [
        "import torch\n",
        "\n",
        "# Normal tensor (on CPU)\n",
        "x_cpu = torch.tensor([1, 2, 3])\n",
        "print(\"On CPU:\", x_cpu)\n",
        "\n",
        "# Move tensor to GPU (if available)\n",
        "if torch.cuda.is_available():\n",
        "    x_gpu = x_cpu.to(\"cuda\")\n",
        "    print(\"On GPU:\", x_gpu)\n",
        "else:\n",
        "    print(\"⚠️ GPU not available here\")\n"
      ],
      "metadata": {
        "colab": {
          "base_uri": "https://localhost:8080/"
        },
        "id": "0Ldor_wYvYu6",
        "outputId": "20e21317-de4f-4972-8a3b-65164d8e110a"
      },
      "execution_count": null,
      "outputs": [
        {
          "output_type": "stream",
          "name": "stdout",
          "text": [
            "On CPU: tensor([1, 2, 3])\n",
            "⚠️ GPU not available here\n"
          ]
        }
      ]
    },
    {
      "cell_type": "markdown",
      "source": [
        "## 🔹 2. Know their Shape (Organized Data)\n",
        "\n",
        "- Lists don’t really know if they’re 1D, 2D, or 3D.  \n",
        "- Tensors **store shape info** → makes working with images, text, audio easy.\n"
      ],
      "metadata": {
        "id": "BUjqUGKwvhlt"
      }
    },
    {
      "cell_type": "code",
      "source": [
        "# Fake image tensor → 3 channels (RGB), 64x64 pixels\n",
        "img = torch.rand(3, 64, 64)\n",
        "print(\"Image tensor shape:\", img.shape)\n"
      ],
      "metadata": {
        "colab": {
          "base_uri": "https://localhost:8080/"
        },
        "id": "r5LTSdB4vjjz",
        "outputId": "dd57d213-8d99-45e7-eb15-d54508be79f0"
      },
      "execution_count": null,
      "outputs": [
        {
          "output_type": "stream",
          "name": "stdout",
          "text": [
            "Image tensor shape: torch.Size([3, 64, 64])\n"
          ]
        }
      ]
    },
    {
      "cell_type": "markdown",
      "source": [
        "## 🔹 3. Vectorized Operations (Fast Math Without Loops)\n",
        "\n",
        "- Lists require **for-loops** (slow in Python).  \n",
        "- Tensors and NumPy arrays use **vectorized operations** (much faster).\n"
      ],
      "metadata": {
        "id": "Vczte2xavrCy"
      }
    },
    {
      "cell_type": "code",
      "source": [
        "import numpy as np\n",
        "\n",
        "# With NumPy (array)\n",
        "arr1 = np.array([1, 2, 3])\n",
        "arr2 = np.array([4, 5, 6])\n",
        "print(\"NumPy result:\", arr1 + arr2)\n",
        "\n",
        "# With PyTorch (tensor)\n",
        "t1 = torch.tensor([1, 2, 3])\n",
        "t2 = torch.tensor([4, 5, 6])\n",
        "print(\"Tensor result:\", t1 + t2)\n"
      ],
      "metadata": {
        "colab": {
          "base_uri": "https://localhost:8080/"
        },
        "id": "H-vdoDKovtBr",
        "outputId": "5fd3ffdf-291f-405d-d590-71a1fd6bf890"
      },
      "execution_count": null,
      "outputs": [
        {
          "output_type": "stream",
          "name": "stdout",
          "text": [
            "NumPy result: [5 7 9]\n",
            "Tensor result: tensor([5, 7, 9])\n"
          ]
        }
      ]
    },
    {
      "cell_type": "markdown",
      "source": [
        "## 🔹 4. Automatic Gradients (Autograd)\n",
        "\n",
        "- Lists/arrays can’t calculate gradients.  \n",
        "- Tensors can **track operations** and compute **gradients automatically** → needed for training neural networks.\n"
      ],
      "metadata": {
        "id": "SjV2nueqv0ww"
      }
    },
    {
      "cell_type": "code",
      "source": [
        "x = torch.tensor(2.0, requires_grad=True)\n",
        "y = x ** 2  # y = x²\n",
        "y.backward()\n",
        "print(\"dy/dx when x=2:\", x.grad)  # derivative = 2x = 4\n"
      ],
      "metadata": {
        "id": "BR4X1uEVv3HY"
      },
      "execution_count": null,
      "outputs": []
    },
    {
      "cell_type": "markdown",
      "source": [
        "## 🔹 5. Interoperable with AI/ML Libraries 🤝\n",
        "\n",
        "- PyTorch tensors can easily convert to and from **NumPy arrays**.  \n",
        "- This makes it easy to integrate with other libraries like **scikit-learn, pandas, Hugging Face, TensorFlow** etc.\n"
      ],
      "metadata": {
        "id": "98z8WoaZwU7I"
      }
    },
    {
      "cell_type": "code",
      "source": [
        "# Tensor → NumPy\n",
        "tensor = torch.tensor([1, 2, 3])\n",
        "numpy_array = tensor.numpy()\n",
        "print(\"Tensor to NumPy:\", numpy_array)\n",
        "\n",
        "# NumPy → Tensor\n",
        "arr = np.array([4, 5, 6])\n",
        "torch_tensor = torch.from_numpy(arr)\n",
        "print(\"NumPy to Tensor:\", torch_tensor)\n"
      ],
      "metadata": {
        "colab": {
          "base_uri": "https://localhost:8080/"
        },
        "id": "QNK7DIzcwV3X",
        "outputId": "aaf4d237-9b4c-4412-a44c-238200bda99b"
      },
      "execution_count": null,
      "outputs": [
        {
          "output_type": "stream",
          "name": "stdout",
          "text": [
            "Tensor to NumPy: [1 2 3]\n",
            "NumPy to Tensor: tensor([4, 5, 6])\n"
          ]
        }
      ]
    },
    {
      "cell_type": "markdown",
      "source": [
        "# ✅ Summary\n",
        "\n",
        "| Feature               | Python List ❌ | NumPy Array ✅ | PyTorch Tensor 🚀 |\n",
        "|------------------------|----------------|----------------|-------------------|\n",
        "| GPU Support           | No             | No             | Yes               |\n",
        "| Shape Info            | No             | Yes            | Yes               |\n",
        "| Vectorized Operations | No (loops)     | Yes            | Yes               |\n",
        "| Autograd (Gradients)  | No             | No             | Yes (Autograd)    |\n",
        "| Interoperability      | No             | Yes            | Yes (NumPy, ML libs) |\n",
        "\n",
        "👉 **Tensors = Super-powered arrays**  \n",
        "They are **fast, GPU-ready, shape-aware, gradient-enabled, and library-friendly** → perfect for AI/ML.\n"
      ],
      "metadata": {
        "id": "aEqqBTEcwl-x"
      }
    },
    {
      "cell_type": "markdown",
      "source": [
        "# 📌 Gradients (Simple Explanation)\n",
        "\n",
        "- A **gradient** is just the **slope** (derivative) of a function.  \n",
        "- It tells us how much the output changes when the input changes.  \n",
        "\n",
        "👉 Example: For \\( y = x^2 \\), the gradient is \\( 2x \\).  \n",
        "- At \\( x = 2 \\), gradient = 4.\n"
      ],
      "metadata": {
        "id": "N-ZlOqc2xiPP"
      }
    },
    {
      "cell_type": "code",
      "source": [
        "\n",
        "\n",
        "# Create a tensor with gradient tracking\n",
        "x = torch.tensor(2.0, requires_grad=True)\n",
        "\n",
        "# Function: y = x^2\n",
        "y = x ** 2\n",
        "\n",
        "# Compute gradient (dy/dx)\n",
        "y.backward()\n",
        "\n",
        "print(\"x:\", x.item())\n",
        "print(\"y:\", y.item())\n",
        "print(\"Gradient dy/dx:\", x.grad.item())\n"
      ],
      "metadata": {
        "colab": {
          "base_uri": "https://localhost:8080/"
        },
        "id": "ya-M7bm3xoz_",
        "outputId": "216b4ef1-9c65-4f9e-ade7-aaeb4e70185d"
      },
      "execution_count": null,
      "outputs": [
        {
          "output_type": "stream",
          "name": "stdout",
          "text": [
            "x: 2.0\n",
            "y: 4.0\n",
            "Gradient dy/dx: 4.0\n"
          ]
        }
      ]
    },
    {
      "cell_type": "markdown",
      "source": [
        "# ✅ Summary\n",
        "\n",
        "- Tensors = **core data format** in AI/ML.  \n",
        "- PyTorch uses `torch.Tensor`, TensorFlow uses `tf.Tensor`, but the **idea is the same**.  \n",
        "- All data types (numbers, images, text, audio) → represented as **tensors**.  \n",
        "- You only need to **master one framework (e.g., PyTorch)** to start deep learning.\n"
      ],
      "metadata": {
        "id": "DJCGuC38uGbV"
      }
    }
  ]
}