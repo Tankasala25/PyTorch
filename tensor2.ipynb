{
  "nbformat": 4,
  "nbformat_minor": 0,
  "metadata": {
    "colab": {
      "provenance": [],
      "authorship_tag": "ABX9TyMTxlnc9qn25ATTOZynxUaV",
      "include_colab_link": true
    },
    "kernelspec": {
      "name": "python3",
      "display_name": "Python 3"
    },
    "language_info": {
      "name": "python"
    }
  },
  "cells": [
    {
      "cell_type": "markdown",
      "metadata": {
        "id": "view-in-github",
        "colab_type": "text"
      },
      "source": [
        "<a href=\"https://colab.research.google.com/github/Tankasala25/PyTorch/blob/main/tensor2.ipynb\" target=\"_parent\"><img src=\"https://colab.research.google.com/assets/colab-badge.svg\" alt=\"Open In Colab\"/></a>"
      ]
    },
    {
      "cell_type": "markdown",
      "source": [
        "# 🧠 Tensor Basics — Shapes, *_like, Copies, Lists\n"
      ],
      "metadata": {
        "id": "Zd5Ig3Lm2Xus"
      }
    },
    {
      "cell_type": "markdown",
      "source": [
        "## 📌 Tensor Shape\n",
        "A tensor’s `.shape` shows its dimensions.  \n",
        "For example: `(2, 2, 3)` means a 3D tensor with **2 blocks**, each block has **2 rows × 3 columns**.\n"
      ],
      "metadata": {
        "id": "qpqfgv3h2Z3K"
      }
    },
    {
      "cell_type": "code",
      "execution_count": null,
      "metadata": {
        "colab": {
          "base_uri": "https://localhost:8080/"
        },
        "id": "c1kltHwD1zqS",
        "outputId": "f43f7f1b-af64-406d-9e2e-965a41513ea1"
      },
      "outputs": [
        {
          "output_type": "stream",
          "name": "stdout",
          "text": [
            "x.shape: torch.Size([2, 2, 3])\n",
            "x:\n",
            " tensor([[[2.3590e-36, 4.4268e-41, 2.3590e-36],\n",
            "         [4.4268e-41, 0.0000e+00, 0.0000e+00]],\n",
            "\n",
            "        [[0.0000e+00, 4.5898e-35, 2.3822e-44],\n",
            "         [0.0000e+00, 1.5893e-39, 0.0000e+00]]])\n"
          ]
        }
      ],
      "source": [
        "import torch\n",
        "\n",
        "x = torch.empty(2, 2, 3)\n",
        "print(\"x.shape:\", x.shape)\n",
        "print(\"x:\\n\", x)\n"
      ]
    },
    {
      "cell_type": "markdown",
      "source": [
        "## 📌 Creating same-shape tensors with `*_like`\n",
        "If you want a new tensor with the **same shape** as an existing one:\n",
        "\n",
        "- `empty_like` → uninitialized (garbage values).\n",
        "- `zeros_like` → all zeros.\n",
        "- `ones_like` → all ones.\n",
        "- `rand_like` → random numbers between 0 and 1.\n"
      ],
      "metadata": {
        "id": "89tguvd52mLB"
      }
    },
    {
      "cell_type": "code",
      "source": [
        "empty_like_x = torch.empty_like(x)\n",
        "zeros_like_x = torch.zeros_like(x)\n",
        "ones_like_x  = torch.ones_like(x)\n",
        "rand_like_x  = torch.rand_like(x)\n",
        "\n",
        "print(\"empty_like_x:\\n\", empty_like_x, \"\\n\")\n",
        "print(\"zeros_like_x:\\n\", zeros_like_x, \"\\n\")\n",
        "print(\"ones_like_x:\\n\", ones_like_x, \"\\n\")\n",
        "print(\"rand_like_x:\\n\", rand_like_x)\n"
      ],
      "metadata": {
        "colab": {
          "base_uri": "https://localhost:8080/"
        },
        "id": "L7ZlOQkt2qEw",
        "outputId": "8555c1b7-bb52-4f7a-ddd1-bcd9b4380874"
      },
      "execution_count": null,
      "outputs": [
        {
          "output_type": "stream",
          "name": "stdout",
          "text": [
            "empty_like_x:\n",
            " tensor([[[ 0.0000e+00,  0.0000e+00,  1.1967e-27],\n",
            "         [ 0.0000e+00,  3.6248e-26,  0.0000e+00]],\n",
            "\n",
            "        [[-7.1731e+25,  4.4267e-41,  1.4013e-45],\n",
            "         [ 0.0000e+00,  1.6816e-44,  0.0000e+00]]]) \n",
            "\n",
            "zeros_like_x:\n",
            " tensor([[[0., 0., 0.],\n",
            "         [0., 0., 0.]],\n",
            "\n",
            "        [[0., 0., 0.],\n",
            "         [0., 0., 0.]]]) \n",
            "\n",
            "ones_like_x:\n",
            " tensor([[[1., 1., 1.],\n",
            "         [1., 1., 1.]],\n",
            "\n",
            "        [[1., 1., 1.],\n",
            "         [1., 1., 1.]]]) \n",
            "\n",
            "rand_like_x:\n",
            " tensor([[[0.8338, 0.1065, 0.9135],\n",
            "         [0.9611, 0.0627, 0.7334]],\n",
            "\n",
            "        [[0.5868, 0.7894, 0.0218],\n",
            "         [0.5524, 0.3272, 0.3907]]])\n"
          ]
        }
      ]
    },
    {
      "cell_type": "markdown",
      "source": [
        "## 📌 Why `empty()` shows strange values\n",
        "- `torch.empty()` does not clear memory — it just allocates space.  \n",
        "- You see whatever random bytes were there.  \n",
        "- If you want controlled values, use `.zero_()` or other initializers.\n"
      ],
      "metadata": {
        "id": "1wMXW5-W2zVx"
      }
    },
    {
      "cell_type": "code",
      "source": [
        "a = torch.empty(3, 4)\n",
        "print(\"Uninitialized a:\\n\", a)\n",
        "\n",
        "a.zero_()\n",
        "print(\"\\nAfter zero_():\\n\", a)\n"
      ],
      "metadata": {
        "colab": {
          "base_uri": "https://localhost:8080/"
        },
        "id": "8gIbT6zF20TP",
        "outputId": "23cc954d-28cf-4431-c2ce-a16fd5b932b3"
      },
      "execution_count": null,
      "outputs": [
        {
          "output_type": "stream",
          "name": "stdout",
          "text": [
            "Uninitialized a:\n",
            " tensor([[3.1352e-25, 0.0000e+00, 0.0000e+00, 1.4013e-45],\n",
            "        [0.0000e+00, 0.0000e+00, 9.1084e-44, 0.0000e+00],\n",
            "        [5.7938e-27, 0.0000e+00, 2.3589e-36, 4.4268e-41]])\n",
            "\n",
            "After zero_():\n",
            " tensor([[0., 0., 0., 0.],\n",
            "        [0., 0., 0., 0.],\n",
            "        [0., 0., 0., 0.]])\n"
          ]
        }
      ]
    },
    {
      "cell_type": "markdown",
      "source": [
        "## 📌 Creating tensors from Python data\n",
        "If you already have lists/tuples, you can pass them directly into `torch.tensor()`.\n"
      ],
      "metadata": {
        "id": "t30eFM2h26gp"
      }
    },
    {
      "cell_type": "code",
      "source": [
        "some_constants = torch.tensor([[3.1415926, 2.71828],\n",
        "                               [1.61803,   0.0072897]])\n",
        "print(\"some_constants:\\n\", some_constants)\n",
        "\n",
        "some_integers = torch.tensor((2, 3, 5, 7, 11, 13, 17, 19))\n",
        "print(\"\\nsome_integers:\\n\", some_integers)\n",
        "\n",
        "more_integers = torch.tensor(((2, 4, 6), [3, 6, 9]))\n",
        "print(\"\\nmore_integers:\\n\", more_integers)\n"
      ],
      "metadata": {
        "colab": {
          "base_uri": "https://localhost:8080/"
        },
        "id": "r0Qy-Q0d28_B",
        "outputId": "b0ca5246-e2d7-4f72-a247-b6e373ed8ff0"
      },
      "execution_count": null,
      "outputs": [
        {
          "output_type": "stream",
          "name": "stdout",
          "text": [
            "some_constants:\n",
            " tensor([[3.1416, 2.7183],\n",
            "        [1.6180, 0.0073]])\n",
            "\n",
            "some_integers:\n",
            " tensor([ 2,  3,  5,  7, 11, 13, 17, 19])\n",
            "\n",
            "more_integers:\n",
            " tensor([[2, 4, 6],\n",
            "        [3, 6, 9]])\n"
          ]
        }
      ]
    },
    {
      "cell_type": "markdown",
      "source": [
        "## 📌 Passing list variables to `torch.tensor`\n",
        "Yes, you can pass variables containing lists directly.\n"
      ],
      "metadata": {
        "id": "ChVxTimz3BlP"
      }
    },
    {
      "cell_type": "code",
      "source": [
        "list1 = [1, 2, 3]\n",
        "list2 = [4, 5, 6]\n",
        "\n",
        "t1 = torch.tensor(list1)\n",
        "t2 = torch.tensor(list2)\n",
        "\n",
        "print(\"t1:\", t1)\n",
        "print(\"t2:\", t2)\n",
        "\n",
        "t_stacked = torch.tensor([list1, list2])   # 2D tensor\n",
        "print(\"\\nt_stacked:\\n\", t_stacked)\n"
      ],
      "metadata": {
        "colab": {
          "base_uri": "https://localhost:8080/"
        },
        "id": "2lF4W_Fx3D3p",
        "outputId": "d5a8739f-ad71-46fb-f7bb-809c1674e82e"
      },
      "execution_count": null,
      "outputs": [
        {
          "output_type": "stream",
          "name": "stdout",
          "text": [
            "t1: tensor([1, 2, 3])\n",
            "t2: tensor([4, 5, 6])\n",
            "\n",
            "t_stacked:\n",
            " tensor([[1, 2, 3],\n",
            "        [4, 5, 6]])\n"
          ]
        }
      ]
    },
    {
      "cell_type": "markdown",
      "source": [
        "## 📌 Making independent copies of tensors\n",
        "If you want the **same shape and same values** as another tensor (independent, not linked):\n",
        "\n",
        "- `clone()` → makes an exact copy (same dtype, same device).\n",
        "- `torch.tensor(x)` → also copies values but defaults to CPU unless specified.\n"
      ],
      "metadata": {
        "id": "C7hw9GkA3Lvk"
      }
    },
    {
      "cell_type": "code",
      "source": [
        "x = torch.tensor([[1., 2.],\n",
        "                  [3., 4.]])\n",
        "\n",
        "y_clone = x.clone()        # independent copy\n",
        "y_tensor = torch.tensor(x) # independent copy (defaults to CPU)\n",
        "\n",
        "x[0, 0] = 99.0\n",
        "\n",
        "print(\"x:\\n\", x)\n",
        "print(\"\\ny_clone (unchanged):\\n\", y_clone)\n",
        "print(\"\\ny_tensor (unchanged):\\n\", y_tensor)\n"
      ],
      "metadata": {
        "colab": {
          "base_uri": "https://localhost:8080/"
        },
        "id": "WzplcMiC3Mon",
        "outputId": "92262c07-8ea8-450d-fca4-7bf3842643fc"
      },
      "execution_count": null,
      "outputs": [
        {
          "output_type": "stream",
          "name": "stdout",
          "text": [
            "x:\n",
            " tensor([[99.,  2.],\n",
            "        [ 3.,  4.]])\n",
            "\n",
            "y_clone (unchanged):\n",
            " tensor([[1., 2.],\n",
            "        [3., 4.]])\n",
            "\n",
            "y_tensor (unchanged):\n",
            " tensor([[1., 2.],\n",
            "        [3., 4.]])\n"
          ]
        },
        {
          "output_type": "stream",
          "name": "stderr",
          "text": [
            "/tmp/ipython-input-3479791493.py:5: UserWarning: To copy construct from a tensor, it is recommended to use sourceTensor.detach().clone() or sourceTensor.detach().clone().requires_grad_(True), rather than torch.tensor(sourceTensor).\n",
            "  y_tensor = torch.tensor(x) # independent copy (defaults to CPU)\n"
          ]
        }
      ]
    },
    {
      "cell_type": "markdown",
      "source": [
        "# ❓ Doubts Recap\n",
        "\n",
        "**Q1. `_like` gives same shape but different values?**  \n",
        "✅ Yes, it copies the shape, not the values.  \n",
        "\n",
        "**Q2. What if I want same values too?**  \n",
        "✅ Use `clone()` or `torch.tensor(x)` → both give independent copies.  \n",
        "\n",
        "**Q3. Can I pass Python list variables into `torch.tensor`?**  \n",
        "✅ Yes. Works for single list (1D) or nested lists (2D, 3D...).  \n",
        "\n"
      ],
      "metadata": {
        "id": "ad7WDc9Q3Usm"
      }
    }
  ]
}