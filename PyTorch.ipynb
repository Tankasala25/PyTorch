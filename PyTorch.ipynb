{
  "nbformat": 4,
  "nbformat_minor": 0,
  "metadata": {
    "colab": {
      "provenance": [],
      "toc_visible": true,
      "authorship_tag": "ABX9TyObHGjVOpzjsaO1K0kXdGSX",
      "include_colab_link": true
    },
    "kernelspec": {
      "name": "python3",
      "display_name": "Python 3"
    },
    "language_info": {
      "name": "python"
    }
  },
  "cells": [
    {
      "cell_type": "markdown",
      "metadata": {
        "id": "view-in-github",
        "colab_type": "text"
      },
      "source": [
        "<a href=\"https://colab.research.google.com/github/Tankasala25/PyTorch/blob/main/PyTorch.ipynb\" target=\"_parent\"><img src=\"https://colab.research.google.com/assets/colab-badge.svg\" alt=\"Open In Colab\"/></a>"
      ]
    },
    {
      "cell_type": "markdown",
      "source": [
        "# What is PyTorch? (Simple Explanation)\n",
        "\n",
        "### 🔹 What is PyTorch?\n",
        "- PyTorch is a **tool (library)** that helps you build and train **AI/ML models**.  \n",
        "- It’s written in Python (so easy to use) and can run fast on **GPU**.  \n",
        "- Its **main building block is the tensor** (the box of numbers we talked about).  \n",
        "\n",
        "---\n",
        "\n",
        "### 🔹 Why do we use PyTorch?\n",
        "- It makes **math with tensors easy** (matrix multiplications, gradients, etc.).  \n",
        "- It automatically calculates **gradients** for training deep learning models (this is called **autograd**).  \n",
        "- It has ready-made tools for **neural networks, datasets, optimizers, etc.**  \n",
        "- It’s the most popular framework in **AI research and projects** today.  \n",
        "\n",
        "---\n",
        "\n",
        "### 🔹 Example in real life\n",
        "Imagine you want to:  \n",
        "- Teach a computer to recognize cats in pictures. 🐱  \n",
        "- PyTorch helps you:  \n",
        "  1. Store your pictures as tensors.  \n",
        "  2. Build a neural network.  \n",
        "  3. Train it with data.  \n",
        "  4. Run predictions (is it cat or not).  \n",
        "\n",
        "---\n",
        "\n",
        "✅ **In short:**  \n",
        "**PyTorch = Python library that uses tensors to build and train AI models.**\n"
      ],
      "metadata": {
        "id": "gUVhesoDqIcd"
      }
    }
  ]
}