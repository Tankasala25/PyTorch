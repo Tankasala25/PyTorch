{
  "nbformat": 4,
  "nbformat_minor": 0,
  "metadata": {
    "colab": {
      "provenance": [],
      "authorship_tag": "ABX9TyNxghcfE0M0cATiaZ+E+6BF",
      "include_colab_link": true
    },
    "kernelspec": {
      "name": "python3",
      "display_name": "Python 3"
    },
    "language_info": {
      "name": "python"
    }
  },
  "cells": [
    {
      "cell_type": "markdown",
      "metadata": {
        "id": "view-in-github",
        "colab_type": "text"
      },
      "source": [
        "<a href=\"https://colab.research.google.com/github/Tankasala25/PyTorch/blob/main/Practice1.ipynb\" target=\"_parent\"><img src=\"https://colab.research.google.com/assets/colab-badge.svg\" alt=\"Open In Colab\"/></a>"
      ]
    },
    {
      "cell_type": "markdown",
      "source": [
        "Create a 4×5 empty tensor and print its type and shape."
      ],
      "metadata": {
        "id": "VGM9PBDPot-d"
      }
    },
    {
      "cell_type": "code",
      "execution_count": 2,
      "metadata": {
        "colab": {
          "base_uri": "https://localhost:8080/"
        },
        "id": "6XBJmTD5oQkt",
        "outputId": "51c06cb0-d060-4dcc-e656-9ab60519fb9c"
      },
      "outputs": [
        {
          "output_type": "stream",
          "name": "stdout",
          "text": [
            "type : <class 'torch.Tensor'>\n",
            "shape : torch.Size([4, 5])\n"
          ]
        }
      ],
      "source": [
        "import torch\n",
        "\n",
        "x=torch.empty(4,5)\n",
        "print(\"type :\" ,type(x))\n",
        "print(\"shape :\" ,x.shape)"
      ]
    },
    {
      "cell_type": "markdown",
      "source": [
        "Create the following tensors and print them:\n",
        "\n",
        "A 2×2 tensor of zeros\n",
        "\n",
        "A 2×2 tensor of ones\n",
        "\n",
        "A 3×3 tensor filled with the number 9\n",
        "\n",
        "👉 After creating them, also print their shape."
      ],
      "metadata": {
        "id": "cSc8rHa6pZi3"
      }
    },
    {
      "cell_type": "code",
      "source": [
        "x=torch.zeros(2,2)\n",
        "y=torch.ones(2,2)\n",
        "z=torch.full((3,3),9)\n",
        "\n",
        "print(x)\n",
        "print(x.shape)\n",
        "print(y)\n",
        "print(y.shape)\n",
        "print(z)\n",
        "print(z.shape)"
      ],
      "metadata": {
        "colab": {
          "base_uri": "https://localhost:8080/"
        },
        "id": "OjwpGAKxpbw0",
        "outputId": "b4a55517-a9f6-480c-81ca-61db124ff825"
      },
      "execution_count": 5,
      "outputs": [
        {
          "output_type": "stream",
          "name": "stdout",
          "text": [
            "tensor([[0., 0.],\n",
            "        [0., 0.]])\n",
            "torch.Size([2, 2])\n",
            "tensor([[1., 1.],\n",
            "        [1., 1.]])\n",
            "torch.Size([2, 2])\n",
            "tensor([[9, 9, 9],\n",
            "        [9, 9, 9],\n",
            "        [9, 9, 9]])\n",
            "torch.Size([3, 3])\n"
          ]
        }
      ]
    },
    {
      "cell_type": "markdown",
      "source": [
        "Create a 1D tensor with 7 elements."
      ],
      "metadata": {
        "id": "D_pxixJQqWg_"
      }
    },
    {
      "cell_type": "code",
      "source": [
        "x=torch.empty(7)\n",
        "print(x)\n",
        "print(x.shape)"
      ],
      "metadata": {
        "colab": {
          "base_uri": "https://localhost:8080/"
        },
        "id": "K9LJV1kqqXke",
        "outputId": "1656b2cf-a271-46a2-f188-b379fe313d14"
      },
      "execution_count": 10,
      "outputs": [
        {
          "output_type": "stream",
          "name": "stdout",
          "text": [
            "tensor([1.9452e-22, 0.0000e+00, 0.0000e+00, 0.0000e+00, 1.6255e-43, 0.0000e+00,\n",
            "        1.1351e-43])\n",
            "torch.Size([7])\n"
          ]
        }
      ]
    },
    {
      "cell_type": "markdown",
      "source": [
        "Create a 2D tensor with shape (3, 4)."
      ],
      "metadata": {
        "id": "rdeUoLrlqnHp"
      }
    },
    {
      "cell_type": "code",
      "source": [
        "x=torch.empty(3,4)\n",
        "print(x)\n",
        "print(x.shape)"
      ],
      "metadata": {
        "colab": {
          "base_uri": "https://localhost:8080/"
        },
        "id": "xG_N86iFqn1p",
        "outputId": "d90462d8-3c1e-49e4-efab-c85729072e7b"
      },
      "execution_count": 11,
      "outputs": [
        {
          "output_type": "stream",
          "name": "stdout",
          "text": [
            "tensor([[1.7772e-22, 0.0000e+00, 1.3088e-22, 0.0000e+00],\n",
            "        [1.1210e-43, 0.0000e+00, 8.9683e-44, 0.0000e+00],\n",
            "        [1.5692e-40, 0.0000e+00, 0.0000e+00, 1.5046e-36]])\n",
            "torch.Size([3, 4])\n"
          ]
        }
      ]
    },
    {
      "cell_type": "markdown",
      "source": [
        "Create a 3D tensor with shape (2, 3, 4)."
      ],
      "metadata": {
        "id": "AAWlSaGzqt0n"
      }
    },
    {
      "cell_type": "code",
      "source": [
        "x=torch.empty(2,3,4)\n",
        "print(x)\n",
        "print(x.shape)"
      ],
      "metadata": {
        "colab": {
          "base_uri": "https://localhost:8080/"
        },
        "id": "Wa8OcNRjqwfx",
        "outputId": "438855b1-ff4c-4190-8d1f-553e71a16aca"
      },
      "execution_count": 9,
      "outputs": [
        {
          "output_type": "stream",
          "name": "stdout",
          "text": [
            "tensor([[[-8.1126e-33,  4.4714e-41, -8.1126e-33,  4.4714e-41],\n",
            "         [ 0.0000e+00,  0.0000e+00,  0.0000e+00,  0.0000e+00],\n",
            "         [ 0.0000e+00,  0.0000e+00,  7.7052e+31,  1.9447e+31]],\n",
            "\n",
            "        [[ 2.1715e-18,  2.3081e-12,  1.8590e+34,  7.7767e+31],\n",
            "         [ 1.7181e+19,  1.8990e+28,  1.5766e-19,  2.1707e-18],\n",
            "         [ 4.5447e+30,  3.0750e+29,  1.9284e+31,  1.8891e+31]]])\n",
            "torch.Size([2, 3, 4])\n"
          ]
        }
      ]
    },
    {
      "cell_type": "markdown",
      "source": [
        "Create a 2×3 tensor using torch.rand → check if values are between 0 and 1."
      ],
      "metadata": {
        "id": "0hEffMIKrVwS"
      }
    },
    {
      "cell_type": "code",
      "source": [
        "x=torch.rand(2,3)\n",
        "print(x)"
      ],
      "metadata": {
        "colab": {
          "base_uri": "https://localhost:8080/"
        },
        "id": "rQtXbP9OrXYM",
        "outputId": "a715e94c-60cf-445b-ac92-7e2675b5f425"
      },
      "execution_count": 12,
      "outputs": [
        {
          "output_type": "stream",
          "name": "stdout",
          "text": [
            "tensor([[0.2474, 0.4375, 0.6751],\n",
            "        [0.8107, 0.3498, 0.7963]])\n"
          ]
        }
      ]
    },
    {
      "cell_type": "markdown",
      "source": [
        "Create a 2×3 tensor using torch.randn → check if you get negative values as well."
      ],
      "metadata": {
        "id": "5TiRdA_priCy"
      }
    },
    {
      "cell_type": "code",
      "source": [
        "x=torch.randn(2,3)\n",
        "print(x)"
      ],
      "metadata": {
        "colab": {
          "base_uri": "https://localhost:8080/"
        },
        "id": "mGqPV4YyrjjN",
        "outputId": "917cfad1-b4a4-4c74-fda3-a10f5d2c4431"
      },
      "execution_count": 17,
      "outputs": [
        {
          "output_type": "stream",
          "name": "stdout",
          "text": [
            "tensor([[ 0.1649, -1.0475,  0.0792],\n",
            "        [ 1.6739,  1.3626, -0.1148]])\n"
          ]
        }
      ]
    },
    {
      "cell_type": "markdown",
      "source": [
        "Create a 2×4 tensor using torch.randint(5, 15, (2, 4)) → confirm values are between 5 and 14."
      ],
      "metadata": {
        "id": "Ljy3FcNgrv90"
      }
    },
    {
      "cell_type": "code",
      "source": [
        "x=torch.randint(5,15,(2,4))\n",
        "print(x)"
      ],
      "metadata": {
        "colab": {
          "base_uri": "https://localhost:8080/"
        },
        "id": "vpoGIH5Yrw5y",
        "outputId": "c089502e-d019-49a6-d60a-e9595f651a1c"
      },
      "execution_count": 14,
      "outputs": [
        {
          "output_type": "stream",
          "name": "stdout",
          "text": [
            "tensor([[ 6, 12,  6,  6],\n",
            "        [ 7, 11,  8, 11]])\n"
          ]
        }
      ]
    },
    {
      "cell_type": "markdown",
      "source": [
        "Create a 2×5 tensor using torch.randint(-3, 3, (2, 5)) → confirm values are between -3 and 2.\n",
        "\n",
        "Also count how many of them are negative."
      ],
      "metadata": {
        "id": "lUH1fVNgr_CF"
      }
    },
    {
      "cell_type": "code",
      "source": [
        "x=torch.randint(-3,3,(2,5))\n",
        "print(x)"
      ],
      "metadata": {
        "colab": {
          "base_uri": "https://localhost:8080/"
        },
        "id": "EBuUERAPsAHg",
        "outputId": "bb00ccdc-1006-4c74-dde7-9fbc2a606843"
      },
      "execution_count": 15,
      "outputs": [
        {
          "output_type": "stream",
          "name": "stdout",
          "text": [
            "tensor([[ 2,  0,  2, -1, -3],\n",
            "        [ 2, -1, -2, -3, -2]])\n"
          ]
        }
      ]
    },
    {
      "cell_type": "markdown",
      "source": [
        "Set seed = 99 and generate a 2×3 tensor with torch.rand."
      ],
      "metadata": {
        "id": "fDpS2lhateAo"
      }
    },
    {
      "cell_type": "code",
      "source": [
        "torch.manual_seed(99)\n",
        "x=torch.rand(2,3)\n",
        "print(x)\n"
      ],
      "metadata": {
        "colab": {
          "base_uri": "https://localhost:8080/"
        },
        "id": "1SLRqnssteyf",
        "outputId": "e5f4fb61-ccd2-450a-8ccb-460377cf5c5f"
      },
      "execution_count": 18,
      "outputs": [
        {
          "output_type": "stream",
          "name": "stdout",
          "text": [
            "tensor([[0.1033, 0.9702, 0.9481],\n",
            "        [0.9787, 0.3268, 0.9200]])\n"
          ]
        }
      ]
    },
    {
      "cell_type": "markdown",
      "source": [
        "Reset seed = 99 and generate again → confirm they are identical."
      ],
      "metadata": {
        "id": "0m0EFeIktus1"
      }
    },
    {
      "cell_type": "code",
      "source": [
        "torch.manual_seed(99)\n",
        "y=torch.rand(2,3)\n",
        "print(y)\n"
      ],
      "metadata": {
        "colab": {
          "base_uri": "https://localhost:8080/"
        },
        "id": "Fo50knyatviO",
        "outputId": "596343dd-81f7-4c25-abf6-ed85f7c4f3cb"
      },
      "execution_count": 19,
      "outputs": [
        {
          "output_type": "stream",
          "name": "stdout",
          "text": [
            "tensor([[0.1033, 0.9702, 0.9481],\n",
            "        [0.9787, 0.3268, 0.9200]])\n"
          ]
        }
      ]
    },
    {
      "cell_type": "markdown",
      "source": [
        "Set seed = 123 and compare with seed = 99 result → confirm they are different."
      ],
      "metadata": {
        "id": "SMF5mtfYt5PG"
      }
    },
    {
      "cell_type": "code",
      "source": [
        "torch.manual_seed(123)\n",
        "x=torch.rand(2,3)\n",
        "print(x)"
      ],
      "metadata": {
        "colab": {
          "base_uri": "https://localhost:8080/"
        },
        "id": "0CSHxz3ut6Qz",
        "outputId": "16d4f194-a4fb-4759-d919-1b3b661c2f57"
      },
      "execution_count": 20,
      "outputs": [
        {
          "output_type": "stream",
          "name": "stdout",
          "text": [
            "tensor([[0.2961, 0.5166, 0.2517],\n",
            "        [0.6886, 0.0740, 0.8665]])\n"
          ]
        }
      ]
    },
    {
      "cell_type": "markdown",
      "source": [
        "Try generating without resetting seed → see if results change."
      ],
      "metadata": {
        "id": "-4ovwROtuLj4"
      }
    },
    {
      "cell_type": "code",
      "source": [
        "x=torch.rand(2,3)\n",
        "print(x)"
      ],
      "metadata": {
        "colab": {
          "base_uri": "https://localhost:8080/"
        },
        "id": "Oramg0ocuMPk",
        "outputId": "094d4060-8a02-49bf-ad10-5209759fc3e1"
      },
      "execution_count": 21,
      "outputs": [
        {
          "output_type": "stream",
          "name": "stdout",
          "text": [
            "tensor([[0.1366, 0.1025, 0.1841],\n",
            "        [0.7264, 0.3153, 0.6871]])\n"
          ]
        }
      ]
    },
    {
      "cell_type": "code",
      "source": [
        "import torch\n",
        "\n",
        "# Create many random values\n",
        "torch.manual_seed(42)       # reproducibility\n",
        "x = torch.randn(10000)      # 10,000 samples\n",
        "\n",
        "print(\"Sample mean:\", x.mean().item())\n",
        "print(\"Sample std :\", x.std().item())\n",
        "print(\"Minimum value:\", x.min().item())\n",
        "print(\"Maximum value:\", x.max().item())\n"
      ],
      "metadata": {
        "colab": {
          "base_uri": "https://localhost:8080/"
        },
        "id": "zv-Nm4VBvXq-",
        "outputId": "db340ede-2d32-4ba4-ddcd-632b93c3ae47"
      },
      "execution_count": 22,
      "outputs": [
        {
          "output_type": "stream",
          "name": "stdout",
          "text": [
            "Sample mean: 0.00643951864913106\n",
            "Sample std : 1.004459261894226\n",
            "Minimum value: -3.832531690597534\n",
            "Maximum value: 4.220885276794434\n"
          ]
        }
      ]
    }
  ]
}