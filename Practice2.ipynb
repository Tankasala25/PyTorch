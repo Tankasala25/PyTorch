{
  "nbformat": 4,
  "nbformat_minor": 0,
  "metadata": {
    "colab": {
      "provenance": [],
      "authorship_tag": "ABX9TyN/mFwgSp3cVG4VldE3TziN",
      "include_colab_link": true
    },
    "kernelspec": {
      "name": "python3",
      "display_name": "Python 3"
    },
    "language_info": {
      "name": "python"
    }
  },
  "cells": [
    {
      "cell_type": "markdown",
      "metadata": {
        "id": "view-in-github",
        "colab_type": "text"
      },
      "source": [
        "<a href=\"https://colab.research.google.com/github/Tankasala25/PyTorch/blob/main/Practice2.ipynb\" target=\"_parent\"><img src=\"https://colab.research.google.com/assets/colab-badge.svg\" alt=\"Open In Colab\"/></a>"
      ]
    },
    {
      "cell_type": "code",
      "execution_count": null,
      "metadata": {
        "colab": {
          "base_uri": "https://localhost:8080/",
          "height": 36
        },
        "id": "DX0u5RpGglEq",
        "outputId": "665c27e8-44de-4a97-9d6f-eb7eec2757f1"
      },
      "outputs": [
        {
          "output_type": "execute_result",
          "data": {
            "text/plain": [
              "'2.8.0+cu126'"
            ],
            "application/vnd.google.colaboratory.intrinsic+json": {
              "type": "string"
            }
          },
          "metadata": {},
          "execution_count": 29
        }
      ],
      "source": [
        "import torch\n",
        "\n",
        "torch.__version__"
      ]
    },
    {
      "cell_type": "code",
      "source": [
        "scalar=torch.tensor(5)\n",
        "scalar.ndim,scalar.shape"
      ],
      "metadata": {
        "colab": {
          "base_uri": "https://localhost:8080/"
        },
        "id": "bWqD69Hbin0T",
        "outputId": "68bde41e-e3b5-42e6-ca0a-5fb0988ccf77"
      },
      "execution_count": null,
      "outputs": [
        {
          "output_type": "execute_result",
          "data": {
            "text/plain": [
              "(0, torch.Size([]))"
            ]
          },
          "metadata": {},
          "execution_count": 30
        }
      ]
    },
    {
      "cell_type": "code",
      "source": [
        "vector=torch.tensor([2,3])\n",
        "vector.ndim,vector.shape"
      ],
      "metadata": {
        "colab": {
          "base_uri": "https://localhost:8080/"
        },
        "id": "U7sJniYakNMa",
        "outputId": "0be0c919-b9e6-489e-8143-00964855e285"
      },
      "execution_count": null,
      "outputs": [
        {
          "output_type": "execute_result",
          "data": {
            "text/plain": [
              "(1, torch.Size([2]))"
            ]
          },
          "metadata": {},
          "execution_count": 31
        }
      ]
    },
    {
      "cell_type": "code",
      "source": [
        "matrix=torch.tensor([[2,3],[4,5]])\n",
        "matrix.ndim,matrix.shape"
      ],
      "metadata": {
        "colab": {
          "base_uri": "https://localhost:8080/"
        },
        "id": "U3PBYQXWk5Kb",
        "outputId": "0c29497d-0b5d-4a6f-b878-da30e46f03eb"
      },
      "execution_count": null,
      "outputs": [
        {
          "output_type": "execute_result",
          "data": {
            "text/plain": [
              "(2, torch.Size([2, 2]))"
            ]
          },
          "metadata": {},
          "execution_count": 32
        }
      ]
    },
    {
      "cell_type": "code",
      "source": [
        "tensor=torch.tensor([[[2,3],[4,5],[6,7]]])\n",
        "tensor.ndim,tensor.shape"
      ],
      "metadata": {
        "colab": {
          "base_uri": "https://localhost:8080/"
        },
        "id": "90z7_CiolNNZ",
        "outputId": "278ef344-6972-46b4-e638-2a513d9eb548"
      },
      "execution_count": null,
      "outputs": [
        {
          "output_type": "execute_result",
          "data": {
            "text/plain": [
              "(3, torch.Size([1, 3, 2]))"
            ]
          },
          "metadata": {},
          "execution_count": 33
        }
      ]
    },
    {
      "cell_type": "code",
      "source": [
        "x=torch.rand([1,3,2])\n",
        "x"
      ],
      "metadata": {
        "colab": {
          "base_uri": "https://localhost:8080/"
        },
        "id": "hGNBMtWalnIL",
        "outputId": "192c6ad6-c641-482a-eb6f-7d286a68b364"
      },
      "execution_count": null,
      "outputs": [
        {
          "output_type": "execute_result",
          "data": {
            "text/plain": [
              "tensor([[[0.8811, 0.2712],\n",
              "         [0.9626, 0.1077],\n",
              "         [0.3776, 0.3369]]])"
            ]
          },
          "metadata": {},
          "execution_count": 34
        }
      ]
    },
    {
      "cell_type": "code",
      "source": [
        "x_random=torch.rand([3,3,4])\n",
        "x_random,"
      ],
      "metadata": {
        "colab": {
          "base_uri": "https://localhost:8080/"
        },
        "id": "JeyVdM3Fl2p-",
        "outputId": "18bcc779-f888-48ce-f3d2-e892cb712e21"
      },
      "execution_count": null,
      "outputs": [
        {
          "output_type": "execute_result",
          "data": {
            "text/plain": [
              "(tensor([[[0.4078, 0.2983, 0.5094, 0.1083],\n",
              "          [0.9374, 0.4827, 0.0927, 0.6211],\n",
              "          [0.7040, 0.1973, 0.8000, 0.4817]],\n",
              " \n",
              "         [[0.8458, 0.9582, 0.8561, 0.0107],\n",
              "          [0.8423, 0.8174, 0.8239, 0.3292],\n",
              "          [0.1234, 0.3968, 0.5185, 0.7276]],\n",
              " \n",
              "         [[0.6126, 0.1032, 0.3421, 0.8294],\n",
              "          [0.6866, 0.0273, 0.0054, 0.4072],\n",
              "          [0.3063, 0.6760, 0.0326, 0.7379]]]),)"
            ]
          },
          "metadata": {},
          "execution_count": 35
        }
      ]
    },
    {
      "cell_type": "code",
      "source": [
        "x=torch.rand([3,2])\n",
        "x"
      ],
      "metadata": {
        "colab": {
          "base_uri": "https://localhost:8080/"
        },
        "id": "E-FDDPlVl_GG",
        "outputId": "f23087a6-fbb4-499b-90eb-297ec2b62bfd"
      },
      "execution_count": null,
      "outputs": [
        {
          "output_type": "execute_result",
          "data": {
            "text/plain": [
              "tensor([[0.8270, 0.8707],\n",
              "        [0.4186, 0.1534],\n",
              "        [0.5443, 0.2247]])"
            ]
          },
          "metadata": {},
          "execution_count": 36
        }
      ]
    },
    {
      "cell_type": "code",
      "source": [
        "x=torch.zeros([3,2])\n",
        "x"
      ],
      "metadata": {
        "id": "gwqMoJxPoiZC",
        "colab": {
          "base_uri": "https://localhost:8080/"
        },
        "outputId": "4778f0bd-e222-4553-bde6-8afc8fb29710"
      },
      "execution_count": null,
      "outputs": [
        {
          "output_type": "execute_result",
          "data": {
            "text/plain": [
              "tensor([[0., 0.],\n",
              "        [0., 0.],\n",
              "        [0., 0.]])"
            ]
          },
          "metadata": {},
          "execution_count": 37
        }
      ]
    },
    {
      "cell_type": "code",
      "source": [
        "y=torch.ones([3,2])\n",
        "y"
      ],
      "metadata": {
        "colab": {
          "base_uri": "https://localhost:8080/"
        },
        "id": "rSOM3H_GSkaA",
        "outputId": "ee69c8ed-7408-46d8-eaa3-0e7738d2ba04"
      },
      "execution_count": null,
      "outputs": [
        {
          "output_type": "execute_result",
          "data": {
            "text/plain": [
              "tensor([[1., 1.],\n",
              "        [1., 1.],\n",
              "        [1., 1.]])"
            ]
          },
          "metadata": {},
          "execution_count": 38
        }
      ]
    },
    {
      "cell_type": "code",
      "source": [
        "x_like =torch.zeros_like(x_random)\n",
        "x_like"
      ],
      "metadata": {
        "colab": {
          "base_uri": "https://localhost:8080/"
        },
        "id": "fW2cXsWtStLG",
        "outputId": "1d0797c5-0879-4dc7-c812-d20cdb83d114"
      },
      "execution_count": null,
      "outputs": [
        {
          "output_type": "execute_result",
          "data": {
            "text/plain": [
              "tensor([[[0., 0., 0., 0.],\n",
              "         [0., 0., 0., 0.],\n",
              "         [0., 0., 0., 0.]],\n",
              "\n",
              "        [[0., 0., 0., 0.],\n",
              "         [0., 0., 0., 0.],\n",
              "         [0., 0., 0., 0.]],\n",
              "\n",
              "        [[0., 0., 0., 0.],\n",
              "         [0., 0., 0., 0.],\n",
              "         [0., 0., 0., 0.]]])"
            ]
          },
          "metadata": {},
          "execution_count": 39
        }
      ]
    },
    {
      "cell_type": "code",
      "source": [
        "ones=torch.ones(2,2,dtype=torch.int32)\n",
        "print(ones)\n",
        "print(ones.dtype)\n"
      ],
      "metadata": {
        "colab": {
          "base_uri": "https://localhost:8080/"
        },
        "id": "jdQ5XnwkXtTk",
        "outputId": "7ac0af7e-f3df-4778-c6a2-9cbe184e03f2"
      },
      "execution_count": null,
      "outputs": [
        {
          "output_type": "stream",
          "name": "stdout",
          "text": [
            "tensor([[1, 1],\n",
            "        [1, 1]], dtype=torch.int32)\n",
            "torch.int32\n"
          ]
        }
      ]
    },
    {
      "cell_type": "code",
      "source": [
        "h=torch.tensor([1.2,2.3],dtype=torch.float16)\n",
        "print(h)\n",
        "print(h.dtype)"
      ],
      "metadata": {
        "colab": {
          "base_uri": "https://localhost:8080/"
        },
        "id": "PVM_6lpZbEcz",
        "outputId": "0bce184e-76af-45f4-8931-526372dda83b"
      },
      "execution_count": null,
      "outputs": [
        {
          "output_type": "stream",
          "name": "stdout",
          "text": [
            "tensor([1.2002, 2.3008], dtype=torch.float16)\n",
            "torch.float16\n"
          ]
        }
      ]
    },
    {
      "cell_type": "code",
      "source": [
        "i= torch.tensor([1,2,3],dtype=torch.int32)\n",
        "print(i)\n",
        "print(i.dtype)\n",
        "print(i.shape)"
      ],
      "metadata": {
        "colab": {
          "base_uri": "https://localhost:8080/"
        },
        "id": "somVTaIbc95G",
        "outputId": "64665f2e-10fb-44d9-ec92-421a584d6872"
      },
      "execution_count": null,
      "outputs": [
        {
          "output_type": "stream",
          "name": "stdout",
          "text": [
            "tensor([1, 2, 3], dtype=torch.int32)\n",
            "torch.int32\n",
            "torch.Size([3])\n"
          ]
        }
      ]
    },
    {
      "cell_type": "code",
      "source": [
        "z=torch.empty((2,3),dtype=torch.float64)\n",
        "print(z)\n",
        "print(z.dtype)"
      ],
      "metadata": {
        "colab": {
          "base_uri": "https://localhost:8080/"
        },
        "id": "3qKvs6wRfIdU",
        "outputId": "03528b05-6ef1-4331-fd67-d81a574521fa"
      },
      "execution_count": null,
      "outputs": [
        {
          "output_type": "stream",
          "name": "stdout",
          "text": [
            "tensor([[6.6477e-310, 6.6480e-310, 5.7571e-317],\n",
            "        [6.6480e-310, 6.6480e-310, 6.6480e-310]], dtype=torch.float64)\n",
            "torch.float64\n"
          ]
        }
      ]
    },
    {
      "cell_type": "code",
      "source": [
        "t=torch.rand(2,3)\n",
        "print(t.device)\n",
        "if torch.cuda.is_available():\n",
        "  t_gpu=t.to(\"cuda\")\n",
        "  print(t_gpu.device)"
      ],
      "metadata": {
        "colab": {
          "base_uri": "https://localhost:8080/"
        },
        "id": "va_P26Cggsq0",
        "outputId": "1e5d87b8-3bdb-4c0c-f0cc-c6ec8910ace6"
      },
      "execution_count": null,
      "outputs": [
        {
          "output_type": "stream",
          "name": "stdout",
          "text": [
            "cpu\n"
          ]
        }
      ]
    },
    {
      "cell_type": "code",
      "source": [
        "import torch\n",
        "import numpy as np\n",
        "\n",
        "\n",
        "arr= np.array([1,2,3],dtype=np.float32)\n",
        "print(arr)\n",
        "print(arr.dtype)\n",
        "\n",
        "t1=torch.tensor(arr)\n",
        "print(t1,t1.shape,t1.dtype)\n",
        "\n",
        "arr[0]=7.0\n",
        "print(arr)\n",
        "print(t1)"
      ],
      "metadata": {
        "colab": {
          "base_uri": "https://localhost:8080/"
        },
        "id": "Iklf4KHSsoYQ",
        "outputId": "3c9426be-5542-4c72-c9db-7ebda1fd4020"
      },
      "execution_count": null,
      "outputs": [
        {
          "output_type": "stream",
          "name": "stdout",
          "text": [
            "[1. 2. 3.]\n",
            "float32\n",
            "tensor([1., 2., 3.]) torch.Size([3]) torch.float32\n",
            "[7. 2. 3.]\n",
            "tensor([1., 2., 3.])\n"
          ]
        }
      ]
    },
    {
      "cell_type": "code",
      "source": [
        "t2=torch.tensor([[4.,5.,6.],\n",
        "                 [7.,8.,9.]],dtype=torch.float32)\n",
        "print(t2)\n",
        "print(t2.dtype)\n",
        "\n",
        "arr2=t2.numpy()\n",
        "print(arr2)\n",
        "print(arr2.dtype)\n",
        "\n",
        "t2[0,1]=23.0\n",
        "print(t2)\n",
        "print(arr2)\n",
        "\n"
      ],
      "metadata": {
        "colab": {
          "base_uri": "https://localhost:8080/"
        },
        "id": "arK87hpstXtI",
        "outputId": "11a22b65-378d-49bc-8ad3-5601fda56064"
      },
      "execution_count": null,
      "outputs": [
        {
          "output_type": "stream",
          "name": "stdout",
          "text": [
            "tensor([[4., 5., 6.],\n",
            "        [7., 8., 9.]])\n",
            "torch.float32\n",
            "[[4. 5. 6.]\n",
            " [7. 8. 9.]]\n",
            "float32\n",
            "tensor([[ 4., 23.,  6.],\n",
            "        [ 7.,  8.,  9.]])\n",
            "[[ 4. 23.  6.]\n",
            " [ 7.  8.  9.]]\n"
          ]
        }
      ]
    },
    {
      "cell_type": "code",
      "source": [],
      "metadata": {
        "id": "TFbx0EAMucsY"
      },
      "execution_count": null,
      "outputs": []
    }
  ]
}