{
  "nbformat": 4,
  "nbformat_minor": 0,
  "metadata": {
    "colab": {
      "provenance": [],
      "authorship_tag": "ABX9TyN26rX6729kLLEZyKlt5BtC",
      "include_colab_link": true
    },
    "kernelspec": {
      "name": "python3",
      "display_name": "Python 3"
    },
    "language_info": {
      "name": "python"
    }
  },
  "cells": [
    {
      "cell_type": "markdown",
      "metadata": {
        "id": "view-in-github",
        "colab_type": "text"
      },
      "source": [
        "<a href=\"https://colab.research.google.com/github/Tankasala25/PyTorch/blob/main/Practice3.ipynb\" target=\"_parent\"><img src=\"https://colab.research.google.com/assets/colab-badge.svg\" alt=\"Open In Colab\"/></a>"
      ]
    },
    {
      "cell_type": "markdown",
      "source": [
        "# 🧠 PyTorch Dtypes — Simple Practicals\n",
        "\n",
        "This notebook covers:\n",
        "\n",
        "- Different dtypes  \n",
        "- Creating tensors (by data & by shape)  \n",
        "- Checking shape, dtype, device  \n",
        "- Moving CPU ↔ GPU  \n",
        "- NumPy ↔ Tensor conversions  \n",
        "- Implicit & explicit casting  \n",
        "- Precision order  \n",
        "- Upcasting & downcasting\n"
      ],
      "metadata": {
        "id": "tpvzTC4KzRx3"
      }
    },
    {
      "cell_type": "code",
      "execution_count": 1,
      "metadata": {
        "colab": {
          "base_uri": "https://localhost:8080/"
        },
        "id": "qSKtnaXDwa25",
        "outputId": "be356fba-2dcd-4258-dc7d-00073e01e986"
      },
      "outputs": [
        {
          "output_type": "stream",
          "name": "stdout",
          "text": [
            "PyTorch version: 2.8.0+cu126\n"
          ]
        }
      ],
      "source": [
        "import torch\n",
        "import numpy as np\n",
        "\n",
        "print(\"PyTorch version:\", torch.__version__)\n"
      ]
    },
    {
      "cell_type": "markdown",
      "source": [
        "## 1️⃣ Common PyTorch Data Types\n"
      ],
      "metadata": {
        "id": "rLqtoON0zZ4D"
      }
    },
    {
      "cell_type": "code",
      "source": [
        "dtypes = [\n",
        "    torch.bool,\n",
        "    torch.uint8,\n",
        "    torch.int8, torch.int16, torch.int32, torch.int64,\n",
        "    torch.float16, torch.float32, torch.float64,\n",
        "    torch.complex64, torch.complex128\n",
        "]\n",
        "\n",
        "for dt in dtypes:\n",
        "    t = torch.zeros((2,2), dtype=dt)\n",
        "    print(dt, \"-> bytes per element:\", t.element_size())\n"
      ],
      "metadata": {
        "colab": {
          "base_uri": "https://localhost:8080/"
        },
        "id": "hu-g5kNCza_s",
        "outputId": "989c83dd-ac46-4f1a-b241-9039f354d929"
      },
      "execution_count": 2,
      "outputs": [
        {
          "output_type": "stream",
          "name": "stdout",
          "text": [
            "torch.bool -> bytes per element: 1\n",
            "torch.uint8 -> bytes per element: 1\n",
            "torch.int8 -> bytes per element: 1\n",
            "torch.int16 -> bytes per element: 2\n",
            "torch.int32 -> bytes per element: 4\n",
            "torch.int64 -> bytes per element: 8\n",
            "torch.float16 -> bytes per element: 2\n",
            "torch.float32 -> bytes per element: 4\n",
            "torch.float64 -> bytes per element: 8\n",
            "torch.complex64 -> bytes per element: 8\n",
            "torch.complex128 -> bytes per element: 16\n"
          ]
        }
      ]
    },
    {
      "cell_type": "markdown",
      "source": [
        "## 2️⃣ Creating Tensors (by shape and dtype)\n"
      ],
      "metadata": {
        "id": "sE9uTKfVzifn"
      }
    },
    {
      "cell_type": "code",
      "source": [
        "t1 = torch.zeros((2,3), dtype=torch.int32)\n",
        "t2 = torch.ones((2,3), dtype=torch.float32)\n",
        "t3 = torch.rand((2,3), dtype=torch.float64)\n",
        "\n",
        "print(t1)\n",
        "print(t2)\n",
        "print(t3)\n"
      ],
      "metadata": {
        "colab": {
          "base_uri": "https://localhost:8080/"
        },
        "id": "ySgde2K2zjeq",
        "outputId": "3346d126-77c9-4cd3-b1f0-c4869210c046"
      },
      "execution_count": 3,
      "outputs": [
        {
          "output_type": "stream",
          "name": "stdout",
          "text": [
            "tensor([[0, 0, 0],\n",
            "        [0, 0, 0]], dtype=torch.int32)\n",
            "tensor([[1., 1., 1.],\n",
            "        [1., 1., 1.]])\n",
            "tensor([[0.0118, 0.2321, 0.2416],\n",
            "        [0.8707, 0.6660, 0.4734]], dtype=torch.float64)\n"
          ]
        }
      ]
    },
    {
      "cell_type": "markdown",
      "source": [
        "## 3️⃣ torch.tensor(data) vs Factory Functions\n"
      ],
      "metadata": {
        "id": "q-chSif-zl8L"
      }
    },
    {
      "cell_type": "code",
      "source": [
        "# From data (shape comes from data)\n",
        "t_values = torch.tensor([[1, 2, 3], [4, 5, 6]])\n",
        "print(t_values)\n",
        "print(\"Shape:\", t_values.shape)\n",
        "\n",
        "# If you give numbers directly, it's not a shape\n",
        "t_wrong = torch.tensor((2, 3))\n",
        "print(t_wrong)\n",
        "print(\"Shape:\", t_wrong.shape)\n"
      ],
      "metadata": {
        "colab": {
          "base_uri": "https://localhost:8080/"
        },
        "id": "GcIBkuq2zpv2",
        "outputId": "3c8ffe96-36ae-49bb-bcbc-e4b6ee0b5281"
      },
      "execution_count": 4,
      "outputs": [
        {
          "output_type": "stream",
          "name": "stdout",
          "text": [
            "tensor([[1, 2, 3],\n",
            "        [4, 5, 6]])\n",
            "Shape: torch.Size([2, 3])\n",
            "tensor([2, 3])\n",
            "Shape: torch.Size([2])\n"
          ]
        }
      ]
    },
    {
      "cell_type": "markdown",
      "source": [
        "## 4️⃣ Tensor Attributes\n"
      ],
      "metadata": {
        "id": "3xcIQN3XztAB"
      }
    },
    {
      "cell_type": "code",
      "source": [
        "t = torch.rand((2,3))\n",
        "print(t)\n",
        "print(\"Shape:\", t.shape)\n",
        "print(\"Dtype:\", t.dtype)\n",
        "print(\"Device:\", t.device)"
      ],
      "metadata": {
        "colab": {
          "base_uri": "https://localhost:8080/"
        },
        "id": "_FI8z_Z-zuvQ",
        "outputId": "70e0ef7a-70db-4023-907f-f889a522a2f5"
      },
      "execution_count": 5,
      "outputs": [
        {
          "output_type": "stream",
          "name": "stdout",
          "text": [
            "tensor([[0.3958, 0.6968, 0.1328],\n",
            "        [0.8732, 0.2779, 0.8533]])\n",
            "Shape: torch.Size([2, 3])\n",
            "Dtype: torch.float32\n",
            "Device: cpu\n"
          ]
        }
      ]
    },
    {
      "cell_type": "markdown",
      "source": [
        "## 5️⃣ Moving Between CPU and GPU\n"
      ],
      "metadata": {
        "id": "sZGti2GzzzVC"
      }
    },
    {
      "cell_type": "code",
      "source": [
        "t = torch.rand((2,3))\n",
        "print(\"Before:\", t.device)\n",
        "\n",
        "if torch.cuda.is_available():\n",
        "    t_gpu = t.to(\"cuda\")\n",
        "    print(\"Moved to GPU:\", t_gpu.device)\n",
        "    t_cpu = t_gpu.to(\"cpu\")\n",
        "    print(\"Moved back to CPU:\", t_cpu.device)\n",
        "else:\n",
        "    print(\"No GPU found, tensor stays on CPU.\")\n"
      ],
      "metadata": {
        "colab": {
          "base_uri": "https://localhost:8080/"
        },
        "id": "Uq4roW4Zz4l4",
        "outputId": "cb4aae21-8db3-418f-af1f-f28af0b2fa37"
      },
      "execution_count": 6,
      "outputs": [
        {
          "output_type": "stream",
          "name": "stdout",
          "text": [
            "Before: cpu\n",
            "No GPU found, tensor stays on CPU.\n"
          ]
        }
      ]
    },
    {
      "cell_type": "markdown",
      "source": [
        "## 6️⃣ NumPy ↔ Tensor Conversions\n"
      ],
      "metadata": {
        "id": "mzu8RDjAz8Sg"
      }
    },
    {
      "cell_type": "code",
      "source": [
        "# NumPy to Tensor (shared memory)\n",
        "arr = np.array([1, 2, 3], dtype=np.float32)\n",
        "t_shared = torch.from_numpy(arr)\n",
        "print(\"NumPy:\", arr)\n",
        "print(\"Tensor (shared):\", t_shared)\n",
        "\n",
        "# Changing NumPy affects tensor\n",
        "arr[0] = 99\n",
        "print(\"After changing NumPy:\")\n",
        "print(\"NumPy:\", arr)\n",
        "print(\"Tensor:\", t_shared)\n",
        "\n",
        "# Safe independent copy\n",
        "t_copy = torch.tensor(arr)\n",
        "arr[1] = 555\n",
        "print(\"After changing again:\")\n",
        "print(\"NumPy:\", arr)\n",
        "print(\"Tensor copy (no change):\", t_copy)\n",
        "\n",
        "# Tensor to NumPy\n",
        "t = torch.tensor([10., 20., 30.])\n",
        "arr2 = t.numpy()\n",
        "print(\"Tensor:\", t)\n",
        "print(\"NumPy:\", arr2)\n",
        "\n",
        "t[0] = 100\n",
        "print(\"After changing tensor:\")\n",
        "print(\"Tensor:\", t)\n",
        "print(\"NumPy:\", arr2)\n"
      ],
      "metadata": {
        "colab": {
          "base_uri": "https://localhost:8080/"
        },
        "id": "5auMTMITz9Z3",
        "outputId": "284a9bed-0bb8-4600-c5bd-7964488b063d"
      },
      "execution_count": 7,
      "outputs": [
        {
          "output_type": "stream",
          "name": "stdout",
          "text": [
            "NumPy: [1. 2. 3.]\n",
            "Tensor (shared): tensor([1., 2., 3.])\n",
            "After changing NumPy:\n",
            "NumPy: [99.  2.  3.]\n",
            "Tensor: tensor([99.,  2.,  3.])\n",
            "After changing again:\n",
            "NumPy: [ 99. 555.   3.]\n",
            "Tensor copy (no change): tensor([99.,  2.,  3.])\n",
            "Tensor: tensor([10., 20., 30.])\n",
            "NumPy: [10. 20. 30.]\n",
            "After changing tensor:\n",
            "Tensor: tensor([100.,  20.,  30.])\n",
            "NumPy: [100.  20.  30.]\n"
          ]
        }
      ]
    },
    {
      "cell_type": "markdown",
      "source": [
        "## 7️⃣ Casting: Implicit and Explicit\n"
      ],
      "metadata": {
        "id": "Zr5nsszo0FOj"
      }
    },
    {
      "cell_type": "code",
      "source": [
        "# Implicit (PyTorch decides)\n",
        "a = torch.tensor([1, 2, 3], dtype=torch.int32)\n",
        "b = torch.tensor([1.5, 2.5, 3.5], dtype=torch.float32)\n",
        "c = a + b\n",
        "print(\"a dtype:\", a.dtype)\n",
        "print(\"b dtype:\", b.dtype)\n",
        "print(\"Result dtype:\", c.dtype)\n",
        "\n",
        "# Explicit (we choose)\n",
        "x = torch.tensor([1.7, 2.9, 3.1])\n",
        "print(\"Original tensor:\", x)\n",
        "print(\"To int:\", x.int())\n",
        "print(\"To float64:\", x.double())\n",
        "print(\"To float16:\", x.half())\n"
      ],
      "metadata": {
        "colab": {
          "base_uri": "https://localhost:8080/"
        },
        "id": "icgojsMp0HKM",
        "outputId": "9767970f-6fdd-4fa5-90a6-af21c65be55b"
      },
      "execution_count": 8,
      "outputs": [
        {
          "output_type": "stream",
          "name": "stdout",
          "text": [
            "a dtype: torch.int32\n",
            "b dtype: torch.float32\n",
            "Result dtype: torch.float32\n",
            "Original tensor: tensor([1.7000, 2.9000, 3.1000])\n",
            "To int: tensor([1, 2, 3], dtype=torch.int32)\n",
            "To float64: tensor([1.7000, 2.9000, 3.1000], dtype=torch.float64)\n",
            "To float16: tensor([1.7002, 2.9004, 3.0996], dtype=torch.float16)\n"
          ]
        }
      ]
    },
    {
      "cell_type": "markdown",
      "source": [
        "## 8️⃣ Precision Order (Type Promotion)\n"
      ],
      "metadata": {
        "id": "jiuzTs-w0Ka-"
      }
    },
    {
      "cell_type": "code",
      "source": [
        "# int + float = float\n",
        "a = torch.tensor([1], dtype=torch.int16)\n",
        "b = torch.tensor([2.5], dtype=torch.float32)\n",
        "print(\"int + float →\", (a+b).dtype)\n",
        "\n",
        "# float + complex = complex\n",
        "f = torch.tensor([1.0], dtype=torch.float32)\n",
        "z = torch.tensor([2+3j], dtype=torch.complex64)\n",
        "print(\"float + complex →\", (f+z).dtype)\n"
      ],
      "metadata": {
        "colab": {
          "base_uri": "https://localhost:8080/"
        },
        "id": "88eSNLLu0L5F",
        "outputId": "9c1f94a4-387b-4f03-e27b-7e20bca0ca79"
      },
      "execution_count": 9,
      "outputs": [
        {
          "output_type": "stream",
          "name": "stdout",
          "text": [
            "int + float → torch.float32\n",
            "float + complex → torch.complex64\n"
          ]
        }
      ]
    },
    {
      "cell_type": "markdown",
      "source": [
        "## 9️⃣ Upcasting vs Downcasting\n"
      ],
      "metadata": {
        "id": "fmZa1mOI0Qn3"
      }
    },
    {
      "cell_type": "code",
      "source": [
        "# Upcasting (safe)\n",
        "t1 = torch.tensor([1.2345], dtype=torch.float32)\n",
        "t2 = t1.to(torch.float64)\n",
        "print(\"Upcast:\", t1, \"->\", t2)\n",
        "\n",
        "# Downcasting (precision lost)\n",
        "x = torch.tensor([1.23456789], dtype=torch.float64)\n",
        "y = x.to(torch.float32)\n",
        "print(\"Downcast:\", x, \"->\", y)\n",
        "\n",
        "# Integer overflow\n",
        "big = torch.tensor([100000], dtype=torch.int32)\n",
        "small = big.to(torch.int16)\n",
        "print(\"Int overflow:\", big, \"->\", small)\n"
      ],
      "metadata": {
        "colab": {
          "base_uri": "https://localhost:8080/"
        },
        "id": "_p5JnzB10Uy0",
        "outputId": "96402820-15dc-43db-88b2-e48ffdfb1668"
      },
      "execution_count": 10,
      "outputs": [
        {
          "output_type": "stream",
          "name": "stdout",
          "text": [
            "Upcast: tensor([1.2345]) -> tensor([1.2345], dtype=torch.float64)\n",
            "Downcast: tensor([1.2346], dtype=torch.float64) -> tensor([1.2346])\n",
            "Int overflow: tensor([100000], dtype=torch.int32) -> tensor([-31072], dtype=torch.int16)\n"
          ]
        }
      ]
    },
    {
      "cell_type": "markdown",
      "source": [
        "## ✅ Summary\n",
        "\n",
        "| Concept | Description |\n",
        "|----------|-------------|\n",
        "| `torch.from_numpy()` | Shares memory with NumPy |\n",
        "| `tensor.numpy()` | Shares memory with Tensor |\n",
        "| `torch.tensor()` | Makes a new copy |\n",
        "| `.to(\"cpu\")`, `.cpu()` | Move to CPU |\n",
        "| `.to(\"cuda\")`, `.cuda()` | Move to GPU |\n",
        "| Implicit casting | Automatic dtype conversion |\n",
        "| Explicit casting | Manual using `.to()`, `.int()`, `.float()` |\n",
        "| Upcasting | Safe (no data loss) |\n",
        "| Downcasting | Can lose precision |\n"
      ],
      "metadata": {
        "id": "LHYvxs5h0ZXA"
      }
    }
  ]
}