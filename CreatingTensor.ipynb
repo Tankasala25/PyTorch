{
  "nbformat": 4,
  "nbformat_minor": 0,
  "metadata": {
    "colab": {
      "provenance": [],
      "authorship_tag": "ABX9TyMbHnwZqIGzfsAdwc0/6OYu",
      "include_colab_link": true
    },
    "kernelspec": {
      "name": "python3",
      "display_name": "Python 3"
    },
    "language_info": {
      "name": "python"
    }
  },
  "cells": [
    {
      "cell_type": "markdown",
      "metadata": {
        "id": "view-in-github",
        "colab_type": "text"
      },
      "source": [
        "<a href=\"https://colab.research.google.com/github/Tankasala25/PyTorch/blob/main/CreatingTensor.ipynb\" target=\"_parent\"><img src=\"https://colab.research.google.com/assets/colab-badge.svg\" alt=\"Open In Colab\"/></a>"
      ]
    },
    {
      "cell_type": "markdown",
      "source": [
        "# Creating Tensors in PyTorch\n",
        "\n",
        "In PyTorch, tensors are the main way we store and work with data.  \n",
        "They are similar to NumPy arrays but with extra power for GPUs and deep learning.\n",
        "\n",
        "---\n",
        "\n",
        "## 1. Import Libraries\n",
        "We start by importing **PyTorch** (`torch`) and Python's built-in **math** library.\n"
      ],
      "metadata": {
        "id": "C-Pa4gvcyqvV"
      }
    },
    {
      "cell_type": "code",
      "source": [
        "import torch\n",
        "import math\n"
      ],
      "metadata": {
        "id": "_GrR_H3tyvvA"
      },
      "execution_count": null,
      "outputs": []
    },
    {
      "cell_type": "markdown",
      "source": [
        "---\n",
        "\n",
        "## 2. Creating an Empty Tensor\n",
        "\n",
        "The simplest way to create a tensor is using `torch.empty()`.  \n",
        "This creates a tensor of the given size, but it does **not** initialize the values.  \n",
        "So the numbers inside will look random (whatever was in memory before).\n"
      ],
      "metadata": {
        "id": "1jpVOio4y3kU"
      }
    },
    {
      "cell_type": "code",
      "source": [
        "# Create a 2D tensor with 3 rows and 4 columns\n",
        "x = torch.empty(3, 4)\n",
        "\n",
        "print(\"Type of x:\", type(x))\n",
        "print(\"Tensor x:\\n\", x)\n"
      ],
      "metadata": {
        "colab": {
          "base_uri": "https://localhost:8080/"
        },
        "id": "1oXwdGP8y8NP",
        "outputId": "03053319-8796-4d34-c8ea-05b61e7eb6f6"
      },
      "execution_count": null,
      "outputs": [
        {
          "output_type": "stream",
          "name": "stdout",
          "text": [
            "Type of x: <class 'torch.Tensor'>\n",
            "Tensor x:\n",
            " tensor([[1.1181e-13, 0.0000e+00, 0.0000e+00, 1.5046e-36],\n",
            "        [1.0277e-13, 0.0000e+00, 1.0842e-19, 0.0000e+00],\n",
            "        [2.8567e-10, 0.0000e+00, 2.8577e-10, 0.0000e+00]])\n"
          ]
        }
      ]
    },
    {
      "cell_type": "markdown",
      "source": [
        "---\n",
        "\n",
        "## 3. Understanding Dimensions\n",
        "\n",
        "- A **1D tensor** is like a vector: `[1, 2, 3]`  \n",
        "- A **2D tensor** is like a matrix: a table with rows and columns  \n",
        "- Tensors with **3 or more dimensions** are just called \"tensors\"  \n",
        "\n",
        "Let's create a few examples:\n"
      ],
      "metadata": {
        "id": "Z0ZFarkdy9AB"
      }
    },
    {
      "cell_type": "code",
      "source": [
        "# 1D tensor (vector with 5 elements)\n",
        "v = torch.empty(5)\n",
        "print(\"1D Tensor (vector):\\n\", v)\n",
        "\n",
        "# 2D tensor (matrix with 2 rows, 3 columns)\n",
        "m = torch.empty(2, 3)\n",
        "print(\"\\n2D Tensor (matrix):\\n\", m)\n",
        "\n",
        "# 3D tensor (for example, 2 matrices stacked)\n",
        "t = torch.empty(2, 3, 4)  # shape: (2 blocks, each 3x4 matrix)\n",
        "print(\"\\n3D Tensor:\\n\", t)\n"
      ],
      "metadata": {
        "colab": {
          "base_uri": "https://localhost:8080/"
        },
        "id": "o0a9J8djzBuI",
        "outputId": "37e93534-31fe-4257-d240-ebe41da8ca31"
      },
      "execution_count": null,
      "outputs": [
        {
          "output_type": "stream",
          "name": "stdout",
          "text": [
            "1D Tensor (vector):\n",
            " tensor([2.8607e-10, 0.0000e+00, 2.8568e-10, 0.0000e+00, 1.1210e-43])\n",
            "\n",
            "2D Tensor (matrix):\n",
            " tensor([[2.7954e-10, 0.0000e+00, 0.0000e+00],\n",
            "        [1.4013e-45, 0.0000e+00, 0.0000e+00]])\n",
            "\n",
            "3D Tensor:\n",
            " tensor([[[2.8225e-10, 0.0000e+00, 2.8718e-10, 0.0000e+00],\n",
            "         [8.9683e-44, 0.0000e+00, 1.1210e-43, 0.0000e+00],\n",
            "         [1.4493e-10, 0.0000e+00, 1.1066e-13, 0.0000e+00]],\n",
            "\n",
            "        [[1.3452e-43, 0.0000e+00, 4.4842e-44, 0.0000e+00],\n",
            "         [2.9102e-10, 0.0000e+00, 0.0000e+00, 1.4013e-45],\n",
            "         [1.7937e-43, 0.0000e+00, 1.5695e-43, 0.0000e+00]]])\n"
          ]
        }
      ]
    },
    {
      "cell_type": "markdown",
      "source": [
        "---\n",
        "\n",
        "## 4. Important Note\n",
        "\n",
        "Since `torch.empty()` does not set values, what you see inside are **random garbage values from memory**.  \n"
      ],
      "metadata": {
        "id": "1_8RWHxXzQOS"
      }
    },
    {
      "cell_type": "markdown",
      "source": [
        "# Initialized Tensors in PyTorch  \n",
        "When you work with neural networks or data, you often need **starting values**.  \n",
        "PyTorch provides factory methods to quickly create tensors without manually typing numbers.\n",
        "\n",
        "---\n"
      ],
      "metadata": {
        "id": "90wGcUMx_80N"
      }
    },
    {
      "cell_type": "markdown",
      "source": [
        "## 1. `torch.zeros(shape)`  \n",
        "Creates a tensor filled with **all zeros**.  \n",
        "Useful when you want an “empty slate” to begin with.\n"
      ],
      "metadata": {
        "id": "iLEt1hDzAB4-"
      }
    },
    {
      "cell_type": "code",
      "source": [
        "import torch\n",
        "\n",
        "t1 = torch.zeros((2,3))\n",
        "print(t1)\n"
      ],
      "metadata": {
        "colab": {
          "base_uri": "https://localhost:8080/"
        },
        "id": "51CEuiujAC8V",
        "outputId": "ddaefef4-4d69-45c4-f40e-a555cc2f8f61"
      },
      "execution_count": null,
      "outputs": [
        {
          "output_type": "stream",
          "name": "stdout",
          "text": [
            "tensor([[0., 0., 0.],\n",
            "        [0., 0., 0.]])\n"
          ]
        }
      ]
    },
    {
      "cell_type": "markdown",
      "source": [
        "## 2. `torch.ones(shape)`  \n",
        "Creates a tensor filled with **all ones**.  \n",
        "Handy when you want uniform starting values.\n"
      ],
      "metadata": {
        "id": "ciQiHt6GAIS8"
      }
    },
    {
      "cell_type": "code",
      "source": [
        "t2 = torch.ones((2,2))\n",
        "print(t2)\n"
      ],
      "metadata": {
        "colab": {
          "base_uri": "https://localhost:8080/"
        },
        "id": "rru4-yfEALq1",
        "outputId": "cabb82f2-aaa9-4959-f154-1628a527a901"
      },
      "execution_count": null,
      "outputs": [
        {
          "output_type": "stream",
          "name": "stdout",
          "text": [
            "tensor([[1., 1.],\n",
            "        [1., 1.]])\n"
          ]
        }
      ]
    },
    {
      "cell_type": "markdown",
      "source": [
        "## 3. `torch.full(shape, fill_value)`  \n",
        "Creates a tensor where every element is the same number you give.  \n",
        "Example: a 3×3 tensor filled with `7`.\n"
      ],
      "metadata": {
        "id": "lvfx6Sg3AN8F"
      }
    },
    {
      "cell_type": "code",
      "source": [
        "t3 = torch.full((3,3), 7)\n",
        "print(t3)\n"
      ],
      "metadata": {
        "colab": {
          "base_uri": "https://localhost:8080/"
        },
        "id": "_dAPO9ZtAT8p",
        "outputId": "155f0fd3-b108-4a71-f42e-72fb2080b36b"
      },
      "execution_count": null,
      "outputs": [
        {
          "output_type": "stream",
          "name": "stdout",
          "text": [
            "tensor([[7, 7, 7],\n",
            "        [7, 7, 7],\n",
            "        [7, 7, 7]])\n"
          ]
        }
      ]
    },
    {
      "cell_type": "markdown",
      "source": [
        "## 4. `torch.rand(shape)`  \n",
        "Creates a tensor filled with **random numbers** between `0` (inclusive) and `1` (exclusive).  \n",
        "Good for initializing weights randomly.\n"
      ],
      "metadata": {
        "id": "RGFPd9e7AW_n"
      }
    },
    {
      "cell_type": "code",
      "source": [
        "t4 = torch.rand((2,4))\n",
        "print(t4)\n"
      ],
      "metadata": {
        "colab": {
          "base_uri": "https://localhost:8080/"
        },
        "id": "iObdbLxzAX6v",
        "outputId": "998ab742-492c-4bcd-dc41-eb5ff7626d1b"
      },
      "execution_count": null,
      "outputs": [
        {
          "output_type": "stream",
          "name": "stdout",
          "text": [
            "tensor([[0.1734, 0.7609, 0.8734, 0.2438],\n",
            "        [0.8840, 0.3708, 0.5074, 0.1900]])\n"
          ]
        }
      ]
    },
    {
      "cell_type": "markdown",
      "source": [
        "## When to use which?\n",
        "- **Zeros** → starting point, placeholder, or padding.  \n",
        "- **Ones** → when you want everything equal, or for testing.  \n",
        "- **Full** → when a constant value is needed.  \n",
        "- **Rand** → when you need randomness to break symmetry (common in training neural nets).  \n",
        "\n",
        "👉 In short:  \n",
        "These methods let you quickly create tensors **without writing values yourself**.\n"
      ],
      "metadata": {
        "id": "yTmBuXh8Ao8x"
      }
    },
    {
      "cell_type": "markdown",
      "source": [
        "# Random Tensor Families — Ranges & Distributions  \n",
        "\n",
        "PyTorch provides different functions to create **random tensors**.  \n",
        "Each one follows a specific **distribution** or **range of values**.\n",
        "\n",
        "---\n"
      ],
      "metadata": {
        "id": "c-LwCV5NBIZL"
      }
    },
    {
      "cell_type": "markdown",
      "source": [
        "## 1. `torch.rand(shape)`  \n",
        "- Values come from a **uniform distribution** in **[0, 1)**.  \n",
        "- Always **non-negative**, never reaches 1."
      ],
      "metadata": {
        "id": "_NeQzP2GBdC8"
      }
    },
    {
      "cell_type": "code",
      "source": [
        "import torch\n",
        "\n",
        "print(\"rand [0,1):\\n\", torch.rand(2, 3))\n"
      ],
      "metadata": {
        "colab": {
          "base_uri": "https://localhost:8080/"
        },
        "id": "GVzaC73VBSoJ",
        "outputId": "6b8cc57e-5f44-472a-9f24-46c6880db369"
      },
      "execution_count": null,
      "outputs": [
        {
          "output_type": "stream",
          "name": "stdout",
          "text": [
            "rand [0,1):\n",
            " tensor([[0.6398, 0.8276, 0.7593],\n",
            "        [0.2127, 0.7273, 0.7996]])\n"
          ]
        }
      ]
    },
    {
      "cell_type": "markdown",
      "source": [
        "## 2. `torch.randn(shape)`  \n",
        "- Values come from a **normal (Gaussian)** distribution.  \n",
        "- Mean = 0, Standard Deviation = 1.  \n",
        "- Can be **negative**, **positive**, and even beyond 1.\n"
      ],
      "metadata": {
        "id": "WWrlr-fKBWvp"
      }
    },
    {
      "cell_type": "code",
      "source": [
        "print(\"randn (normal 0±1):\\n\", torch.randn(2, 3))\n"
      ],
      "metadata": {
        "colab": {
          "base_uri": "https://localhost:8080/"
        },
        "id": "cHUjx7pBBfGO",
        "outputId": "7aa05aa9-e561-4502-9092-25321afa4b4c"
      },
      "execution_count": null,
      "outputs": [
        {
          "output_type": "stream",
          "name": "stdout",
          "text": [
            "randn (normal 0±1):\n",
            " tensor([[ 1.2268, -0.6588, -0.0622],\n",
            "        [ 0.7005,  1.1285, -0.5114]])\n"
          ]
        }
      ]
    },
    {
      "cell_type": "markdown",
      "source": [
        "## 3. `torch.randint(low, high, shape)`  \n",
        "- Generates **integers** in the range `[low, high)`.  \n",
        "- Negative numbers are possible if `low < 0`.  \n",
        "- The upper bound `high` is **exclusive**.\n"
      ],
      "metadata": {
        "id": "a_qLJJMbBjzF"
      }
    },
    {
      "cell_type": "code",
      "source": [
        "print(\"randint 0..9:\\n\", torch.randint(0, 10, (2, 3)))   # values 0–9\n",
        "print(\"\\nrandint -5..4:\\n\", torch.randint(-5, 5, (2, 3)))  # values -5–4\n"
      ],
      "metadata": {
        "colab": {
          "base_uri": "https://localhost:8080/"
        },
        "id": "cQTtudLcBl7e",
        "outputId": "d236b88b-d1f2-4495-b551-daa8242fe129"
      },
      "execution_count": null,
      "outputs": [
        {
          "output_type": "stream",
          "name": "stdout",
          "text": [
            "randint 0..9:\n",
            " tensor([[4, 8, 7],\n",
            "        [1, 9, 6]])\n",
            "\n",
            "randint -5..4:\n",
            " tensor([[ 3,  3, -2],\n",
            "        [-3,  4, -5]])\n"
          ]
        }
      ]
    },
    {
      "cell_type": "markdown",
      "source": [
        "## ✅ Answers to Common Doubts  \n",
        "- `rand()` → always in **[0,1)** (positive only).  \n",
        "- `randn()` → values centered around **0** (can be negative or greater than 1).  \n",
        "- `randint(a, b, …)` → integers in `[a, b)`. You can choose **negative or positive ranges**.  \n"
      ],
      "metadata": {
        "id": "sbKda_0oBrDu"
      }
    },
    {
      "cell_type": "markdown",
      "source": [
        "# Reproducibility with `torch.manual_seed`\n",
        "\n",
        "Random numbers in PyTorch are generated by a *Random Number Generator (RNG)*.  \n",
        "By setting a **seed value**, we can make the RNG give the **same sequence of random numbers every run**.\n",
        "\n",
        "---\n"
      ],
      "metadata": {
        "id": "1sNA0ptlC1jV"
      }
    },
    {
      "cell_type": "markdown",
      "source": [
        "## Key Points\n",
        "- **Same seed** ⇒ **same sequence** of random numbers (reproducible).  \n",
        "- **Different seed** ⇒ different sequence.  \n",
        "- You can reseed any time to restart the sequence from the beginning.  \n",
        "- For GPU tensors, you can also set:  \n",
        "  `torch.cuda.manual_seed_all(seed)`  \n"
      ],
      "metadata": {
        "id": "DbkUdKF9C5m5"
      }
    },
    {
      "cell_type": "code",
      "source": [
        "import torch\n",
        "\n",
        "# Same seed → same results\n",
        "torch.manual_seed(42)\n",
        "r1 = torch.rand(2, 3)\n",
        "\n",
        "torch.manual_seed(42)\n",
        "r2 = torch.rand(2, 3)\n",
        "\n",
        "# Different seed → different results\n",
        "torch.manual_seed(7)\n",
        "r3 = torch.rand(2, 3)\n",
        "\n",
        "# Any integer works (1729 is just an example)\n",
        "torch.manual_seed(1729)\n",
        "r4 = torch.rand(2, 3)\n",
        "\n",
        "print(\"Seed 42 - first:\\n\", r1)\n",
        "print(\"\\nSeed 42 - second (identical):\\n\", r2)\n",
        "print(\"\\nSeed 7:\\n\", r3)\n",
        "print(\"\\nSeed 1729:\\n\", r4)\n"
      ],
      "metadata": {
        "colab": {
          "base_uri": "https://localhost:8080/"
        },
        "id": "AEjkAOPUDBTk",
        "outputId": "6e14401e-b4d8-4be5-a565-cc4bfdb55eac"
      },
      "execution_count": null,
      "outputs": [
        {
          "output_type": "stream",
          "name": "stdout",
          "text": [
            "Seed 42 - first:\n",
            " tensor([[0.8823, 0.9150, 0.3829],\n",
            "        [0.9593, 0.3904, 0.6009]])\n",
            "\n",
            "Seed 42 - second (identical):\n",
            " tensor([[0.8823, 0.9150, 0.3829],\n",
            "        [0.9593, 0.3904, 0.6009]])\n",
            "\n",
            "Seed 7:\n",
            " tensor([[0.5349, 0.1988, 0.6592],\n",
            "        [0.6569, 0.2328, 0.4251]])\n",
            "\n",
            "Seed 1729:\n",
            " tensor([[0.3126, 0.3791, 0.3087],\n",
            "        [0.0736, 0.4216, 0.0691]])\n"
          ]
        }
      ]
    },
    {
      "cell_type": "markdown",
      "source": [
        "## ✅ Summary\n",
        "- Setting a seed \"locks in\" the random sequence.  \n",
        "- Useful for **debugging and reproducibility** (others can run your code and get the same results).  \n",
        "- Seed values can be **any integer** .  \n"
      ],
      "metadata": {
        "id": "RdcO51vADK0D"
      }
    }
  ]
}