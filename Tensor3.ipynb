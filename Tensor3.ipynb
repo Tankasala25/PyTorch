{
  "nbformat": 4,
  "nbformat_minor": 0,
  "metadata": {
    "colab": {
      "provenance": [],
      "authorship_tag": "ABX9TyMPIEPUn1Txk+2l/6EFqiE/",
      "include_colab_link": true
    },
    "kernelspec": {
      "name": "python3",
      "display_name": "Python 3"
    },
    "language_info": {
      "name": "python"
    }
  },
  "cells": [
    {
      "cell_type": "markdown",
      "metadata": {
        "id": "view-in-github",
        "colab_type": "text"
      },
      "source": [
        "<a href=\"https://colab.research.google.com/github/Tankasala25/PyTorch/blob/main/Tensor3.ipynb\" target=\"_parent\"><img src=\"https://colab.research.google.com/assets/colab-badge.svg\" alt=\"Open In Colab\"/></a>"
      ]
    },
    {
      "cell_type": "markdown",
      "source": [
        "# 📓 PyTorch Tensors — Data Types, Math & Broadcasting\n",
        "\n",
        "This notebook introduces PyTorch tensor **data types**, **math operations**, **broadcasting**, and some **linear algebra functions** in simple steps.\n"
      ],
      "metadata": {
        "id": "vnW1Kh80Ijbo"
      }
    },
    {
      "cell_type": "markdown",
      "source": [
        "## 🔹 1. Tensor Data Types\n",
        "\n",
        "When creating tensors, you can choose the **data type** (`dtype`).\n",
        "\n",
        "- Integers (`int16`, `int32`, `int64`) → store whole numbers (no decimals).  \n",
        "- Floats (`float32`, `float64`) → store decimals (used in ML).  \n",
        "- Default type = `float32`.  \n",
        "\n",
        "You can set `dtype` when creating a tensor, or later convert with `.to(dtype)`.\n"
      ],
      "metadata": {
        "id": "k4CZGC3jIoRK"
      }
    },
    {
      "cell_type": "code",
      "execution_count": null,
      "metadata": {
        "colab": {
          "base_uri": "https://localhost:8080/"
        },
        "id": "5G6rMM8n5zyO",
        "outputId": "541414d0-f829-4bde-da46-c88176abd435"
      },
      "outputs": [
        {
          "output_type": "stream",
          "name": "stdout",
          "text": [
            "a:\n",
            " tensor([[1, 1, 1],\n",
            "        [1, 1, 1]], dtype=torch.int16) \n",
            "with dtype: torch.int16\n",
            "\n",
            "b:\n",
            " tensor([[ 6.3046, 15.9735, 15.0393],\n",
            "        [18.1036, 15.2432,  3.8573]], dtype=torch.float64) \n",
            "with dtype: torch.float64\n",
            "\n",
            "c:\n",
            " tensor([[ 6, 15, 15],\n",
            "        [18, 15,  3]], dtype=torch.int32) \n",
            "with dtype: torch.int32\n"
          ]
        }
      ],
      "source": [
        "import torch\n",
        "\n",
        "# Integer tensor\n",
        "a = torch.ones((2, 3), dtype=torch.int16)\n",
        "print(\"a:\\n\", a, \"\\nwith dtype:\", a.dtype)\n",
        "\n",
        "# Float tensor\n",
        "b = torch.rand((2, 3), dtype=torch.float64) * 20\n",
        "print(\"\\nb:\\n\", b, \"\\nwith dtype:\", b.dtype)\n",
        "\n",
        "# Convert floats to integers (truncate)\n",
        "c = b.to(torch.int32)\n",
        "print(\"\\nc:\\n\", c, \"\\nwith dtype:\", c.dtype)\n"
      ]
    },
    {
      "cell_type": "markdown",
      "source": [
        "👉 **Key Idea:**  \n",
        "- Integers drop fractions.  \n",
        "- Floats keep decimals.  \n",
        "- `.to(dtype)` changes type.  \n"
      ],
      "metadata": {
        "id": "4-Xg9p_jIvwO"
      }
    },
    {
      "cell_type": "markdown",
      "source": [
        "## 🔹 2. Math with Tensors\n",
        "\n",
        "You can do arithmetic directly on tensors. Operations apply **element by element**.\n"
      ],
      "metadata": {
        "id": "nu93hD6TI5zf"
      }
    },
    {
      "cell_type": "code",
      "source": [
        "ones = torch.zeros(2, 2) + 1\n",
        "twos = torch.ones(2, 2) * 2\n",
        "threes = (torch.ones(2, 2) * 7 - 1) / 2\n",
        "fours = twos ** 2\n",
        "sqrt2s = twos ** 0.5\n",
        "\n",
        "print(\"ones:\\n\", ones)\n",
        "print(\"twos:\\n\", twos)\n",
        "print(\"threes:\\n\", threes)\n",
        "print(\"fours:\\n\", fours)\n",
        "print(\"sqrt2s:\\n\", sqrt2s)\n"
      ],
      "metadata": {
        "colab": {
          "base_uri": "https://localhost:8080/"
        },
        "id": "WEA_f0SxI2NH",
        "outputId": "0ade5a1b-f00a-4203-f89a-2bf1ebf070cc"
      },
      "execution_count": null,
      "outputs": [
        {
          "output_type": "stream",
          "name": "stdout",
          "text": [
            "ones:\n",
            " tensor([[1., 1.],\n",
            "        [1., 1.]])\n",
            "twos:\n",
            " tensor([[2., 2.],\n",
            "        [2., 2.]])\n",
            "threes:\n",
            " tensor([[3., 3.],\n",
            "        [3., 3.]])\n",
            "fours:\n",
            " tensor([[4., 4.],\n",
            "        [4., 4.]])\n",
            "sqrt2s:\n",
            " tensor([[1.4142, 1.4142],\n",
            "        [1.4142, 1.4142]])\n"
          ]
        }
      ]
    },
    {
      "cell_type": "markdown",
      "source": [
        "👉 **Key Idea:**  \n",
        "Tensors = numbers in bulk. You can add, subtract, multiply, divide, square, or take roots.\n"
      ],
      "metadata": {
        "id": "Gxi1Rsr5JDro"
      }
    },
    {
      "cell_type": "markdown",
      "source": [
        "## 🔹 3. Tensor Broadcasting\n",
        "\n",
        "Broadcasting allows operations between different-shaped tensors.  \n",
        "\n",
        "Rules:  \n",
        "1. Compare shapes **right to left**.  \n",
        "2. They are compatible if:  \n",
        "   - Equal size, OR  \n",
        "   - One size = `1`, OR  \n",
        "   - Dimension missing.  \n",
        "3. Else → error.  \n"
      ],
      "metadata": {
        "id": "axBlETYIJFDB"
      }
    },
    {
      "cell_type": "code",
      "source": [
        "rand = torch.rand(2, 4)              # shape (2,4)\n",
        "other = torch.ones(1, 4) * 2         # shape (1,4)\n",
        "doubled = rand * other               # broadcast\n",
        "\n",
        "print(\"rand:\\n\", rand)\n",
        "print(\"\\nother:\\n\", other)\n",
        "print(\"\\ndoubled:\\n\", doubled)\n",
        "print(\"\\nshapes:\", rand.shape, other.shape, doubled.shape)\n"
      ],
      "metadata": {
        "colab": {
          "base_uri": "https://localhost:8080/"
        },
        "id": "HRBaaq99JJ0J",
        "outputId": "f5828b4d-68bd-4687-ece2-93c7ba074b09"
      },
      "execution_count": null,
      "outputs": [
        {
          "output_type": "stream",
          "name": "stdout",
          "text": [
            "rand:\n",
            " tensor([[0.2103, 0.4097, 0.8421, 0.7839],\n",
            "        [0.7225, 0.9838, 0.1466, 0.4488]])\n",
            "\n",
            "other:\n",
            " tensor([[2., 2., 2., 2.]])\n",
            "\n",
            "doubled:\n",
            " tensor([[0.4206, 0.8194, 1.6842, 1.5678],\n",
            "        [1.4451, 1.9676, 0.2932, 0.8975]])\n",
            "\n",
            "shapes: torch.Size([2, 4]) torch.Size([1, 4]) torch.Size([2, 4])\n"
          ]
        }
      ]
    },
    {
      "cell_type": "markdown",
      "source": [
        "# 📓 PyTorch Broadcasting — Row and Column Expansion\n",
        "\n",
        "This notebook explains **which row/column gets expanded** when broadcasting\n",
        "occurs in PyTorch.\n"
      ],
      "metadata": {
        "id": "jFabJAE7M1Y1"
      }
    },
    {
      "cell_type": "markdown",
      "source": [
        "## Case 1 — One Row vs Two Rows\n",
        "\n",
        "- `rand`: shape **(2,4)** → two rows, four columns  \n",
        "- `other`: shape **(1,4)** → one row, four columns  \n",
        "\n",
        "👉 Broadcasting rule: the single row is repeated for each row of `rand`.\n"
      ],
      "metadata": {
        "id": "791eiJ46M2rN"
      }
    },
    {
      "cell_type": "code",
      "source": [
        "import torch\n",
        "\n",
        "rand = torch.tensor([[1., 2., 3., 4.],\n",
        "                     [5., 6., 7., 8.]])   # (2,4)\n",
        "\n",
        "other = torch.tensor([[10., 20., 30., 40.]])  # (1,4)\n",
        "\n",
        "print(\"rand:\\n\", rand)\n",
        "print(\"\\nother (1 row):\\n\", other)\n",
        "\n",
        "expanded = other.expand_as(rand)   # broadcasted view\n",
        "print(\"\\nexpanded other:\\n\", expanded)\n",
        "\n",
        "result = rand * other\n",
        "print(\"\\nresult (rand * other):\\n\", result)\n"
      ],
      "metadata": {
        "colab": {
          "base_uri": "https://localhost:8080/"
        },
        "id": "QFun2ieMM5al",
        "outputId": "c8d6002b-4a35-4470-aa93-f41cad6a24b1"
      },
      "execution_count": null,
      "outputs": [
        {
          "output_type": "stream",
          "name": "stdout",
          "text": [
            "rand:\n",
            " tensor([[1., 2., 3., 4.],\n",
            "        [5., 6., 7., 8.]])\n",
            "\n",
            "other (1 row):\n",
            " tensor([[10., 20., 30., 40.]])\n",
            "\n",
            "expanded other:\n",
            " tensor([[10., 20., 30., 40.],\n",
            "        [10., 20., 30., 40.]])\n",
            "\n",
            "result (rand * other):\n",
            " tensor([[ 10.,  40.,  90., 160.],\n",
            "        [ 50., 120., 210., 320.]])\n"
          ]
        }
      ]
    },
    {
      "cell_type": "markdown",
      "source": [
        "## Case 2 — One Column vs Two Columns\n",
        "\n",
        "- `rand`: shape **(2,4)** → two rows, four columns  \n",
        "- `other`: shape **(2,1)** → two rows, one column  \n",
        "\n",
        "👉 Broadcasting rule: the single column in each row is repeated across columns.\n"
      ],
      "metadata": {
        "id": "GrZHi5d4NBGf"
      }
    },
    {
      "cell_type": "code",
      "source": [
        "rand = torch.tensor([[1., 2., 3., 4.],\n",
        "                     [5., 6., 7., 8.]])   # (2,4)\n",
        "\n",
        "other = torch.tensor([[10.],\n",
        "                      [20.]])             # (2,1)\n",
        "\n",
        "print(\"rand:\\n\", rand)\n",
        "print(\"\\nother (1 column per row):\\n\", other)\n",
        "\n",
        "expanded = other.expand_as(rand)\n",
        "print(\"\\nexpanded other:\\n\", expanded)\n",
        "\n",
        "result = rand * other\n",
        "print(\"\\nresult (rand * other):\\n\", result)\n"
      ],
      "metadata": {
        "colab": {
          "base_uri": "https://localhost:8080/"
        },
        "id": "xTgq9bV2NE3h",
        "outputId": "fba634f5-77ef-4b90-bef1-b9272e8a17d6"
      },
      "execution_count": null,
      "outputs": [
        {
          "output_type": "stream",
          "name": "stdout",
          "text": [
            "rand:\n",
            " tensor([[1., 2., 3., 4.],\n",
            "        [5., 6., 7., 8.]])\n",
            "\n",
            "other (1 column per row):\n",
            " tensor([[10.],\n",
            "        [20.]])\n",
            "\n",
            "expanded other:\n",
            " tensor([[10., 10., 10., 10.],\n",
            "        [20., 20., 20., 20.]])\n",
            "\n",
            "result (rand * other):\n",
            " tensor([[ 10.,  20.,  30.,  40.],\n",
            "        [100., 120., 140., 160.]])\n"
          ]
        }
      ]
    },
    {
      "cell_type": "markdown",
      "source": [
        "## Case 3 — Single Value (1×1) vs (2×4)\n",
        "\n",
        "- `rand`: shape **(2,4)** → two rows, four columns  \n",
        "- `other`: shape **(1,1)** → single value  \n",
        "\n",
        "👉 Broadcasting rule: that single value is repeated across **all rows and columns**.\n"
      ],
      "metadata": {
        "id": "icyF-hekNOS7"
      }
    },
    {
      "cell_type": "code",
      "source": [
        "rand = torch.tensor([[1., 2., 3., 4.],\n",
        "                     [5., 6., 7., 8.]])   # (2,4)\n",
        "\n",
        "other = torch.tensor([[10.]])              # (1,1)\n",
        "\n",
        "print(\"rand:\\n\", rand)\n",
        "print(\"\\nother (1 value):\\n\", other)\n",
        "\n",
        "expanded = other.expand_as(rand)\n",
        "print(\"\\nexpanded other:\\n\", expanded)\n",
        "\n",
        "result = rand * other\n",
        "print(\"\\nresult (rand * other):\\n\", result)\n"
      ],
      "metadata": {
        "colab": {
          "base_uri": "https://localhost:8080/"
        },
        "id": "D_IGTXwANSV3",
        "outputId": "f6614623-2299-4917-ecd7-68e6124e71ea"
      },
      "execution_count": null,
      "outputs": [
        {
          "output_type": "stream",
          "name": "stdout",
          "text": [
            "rand:\n",
            " tensor([[1., 2., 3., 4.],\n",
            "        [5., 6., 7., 8.]])\n",
            "\n",
            "other (1 value):\n",
            " tensor([[10.]])\n",
            "\n",
            "expanded other:\n",
            " tensor([[10., 10., 10., 10.],\n",
            "        [10., 10., 10., 10.]])\n",
            "\n",
            "result (rand * other):\n",
            " tensor([[10., 20., 30., 40.],\n",
            "        [50., 60., 70., 80.]])\n"
          ]
        }
      ]
    },
    {
      "cell_type": "markdown",
      "source": [
        "# ✅ Summary\n",
        "\n",
        "- If **row dimension = 1** → that row is copied for all rows.  \n",
        "- If **column dimension = 1** → that column is copied for all columns.  \n",
        "- If both are `1` → the single value is copied everywhere.  \n",
        "\n",
        "Broadcasting makes tensor math concise without explicit tiling or copying.\n",
        "\n"
      ],
      "metadata": {
        "id": "Urd4778hJPJp"
      }
    },
    {
      "cell_type": "markdown",
      "source": [
        "## 🔹 4. More Math Functions\n",
        "\n",
        "PyTorch has hundreds of math functions. Here are a few categories:\n",
        "\n",
        "- `abs` → absolute value  \n",
        "- `ceil` / `floor` → round up / down  \n",
        "- `clamp` → restrict values to a range  \n",
        "- `sin`, `asin` → trig functions  \n",
        "- `bitwise_xor` → binary operations  \n",
        "- `eq` → elementwise comparison  \n",
        "- Reductions → `max`, `mean`, `std`, `prod`, `unique`  \n"
      ],
      "metadata": {
        "id": "sYvqCDnvJVDA"
      }
    },
    {
      "cell_type": "code",
      "source": [
        "import math\n",
        "\n",
        "# Common\n",
        "a = torch.rand(2, 4) * 2 - 1\n",
        "print(\"a:\\n\", a)\n",
        "print(\"\\nabs(a):\\n\", torch.abs(a))\n",
        "print(\"\\nceil(a):\\n\", torch.ceil(a))\n",
        "print(\"\\nfloor(a):\\n\", torch.floor(a))\n",
        "print(\"\\nclamp(a, -0.5, 0.5):\\n\", torch.clamp(a, -0.5, 0.5))\n",
        "\n",
        "# Trigonometric\n",
        "angles = torch.tensor([0., math.pi/4, math.pi/2])\n",
        "print(\"\\nangles:\\n\", angles)\n",
        "print(\"sin:\\n\", torch.sin(angles))\n",
        "print(\"asin(sin):\\n\", torch.asin(torch.sin(angles)))\n",
        "\n",
        "# Bitwise\n",
        "b = torch.tensor([1, 5, 11])\n",
        "c = torch.tensor([2, 7, 10])\n",
        "print(\"\\nbitwise_xor:\\n\", torch.bitwise_xor(b, c))\n",
        "\n",
        "# Comparisons\n",
        "d = torch.tensor([[1., 2.], [3., 4.]])\n",
        "e = torch.ones(1, 2)\n",
        "print(\"\\neq(d, e):\\n\", torch.eq(d, e))\n",
        "\n",
        "# Reductions\n",
        "print(\"\\nmax:\", torch.max(d))\n",
        "print(\"mean:\", torch.mean(d))\n",
        "print(\"std:\", torch.std(d))\n",
        "print(\"prod:\", torch.prod(d))\n",
        "print(\"unique:\", torch.unique(torch.tensor([1,2,1,2])))\n"
      ],
      "metadata": {
        "colab": {
          "base_uri": "https://localhost:8080/"
        },
        "id": "80po4OkPJXPo",
        "outputId": "7d85d510-2d8a-4e1b-f125-271dc5e92d13"
      },
      "execution_count": null,
      "outputs": [
        {
          "output_type": "stream",
          "name": "stdout",
          "text": [
            "a:\n",
            " tensor([[ 0.7742, -0.9926,  0.0832, -0.8274],\n",
            "        [ 0.0936,  0.4313, -0.5653, -0.0968]])\n",
            "\n",
            "abs(a):\n",
            " tensor([[0.7742, 0.9926, 0.0832, 0.8274],\n",
            "        [0.0936, 0.4313, 0.5653, 0.0968]])\n",
            "\n",
            "ceil(a):\n",
            " tensor([[1., -0., 1., -0.],\n",
            "        [1., 1., -0., -0.]])\n",
            "\n",
            "floor(a):\n",
            " tensor([[ 0., -1.,  0., -1.],\n",
            "        [ 0.,  0., -1., -1.]])\n",
            "\n",
            "clamp(a, -0.5, 0.5):\n",
            " tensor([[ 0.5000, -0.5000,  0.0832, -0.5000],\n",
            "        [ 0.0936,  0.4313, -0.5000, -0.0968]])\n",
            "\n",
            "angles:\n",
            " tensor([0.0000, 0.7854, 1.5708])\n",
            "sin:\n",
            " tensor([0.0000, 0.7071, 1.0000])\n",
            "asin(sin):\n",
            " tensor([0.0000, 0.7854, 1.5708])\n",
            "\n",
            "bitwise_xor:\n",
            " tensor([3, 2, 1])\n",
            "\n",
            "eq(d, e):\n",
            " tensor([[ True, False],\n",
            "        [False, False]])\n",
            "\n",
            "max: tensor(4.)\n",
            "mean: tensor(2.5000)\n",
            "std: tensor(1.2910)\n",
            "prod: tensor(24.)\n",
            "unique: tensor([1, 2])\n"
          ]
        }
      ]
    },
    {
      "cell_type": "markdown",
      "source": [
        "👉 **Key Idea:**  \n",
        "- `abs`: absolute value (positive).  \n",
        "- `ceil` / `floor`: round up / down.  \n",
        "- `clamp`: force values into a range.  \n",
        "- `sin`, `asin`: forward + inverse trig.  \n",
        "- `bitwise_xor`: binary digit XOR.  \n",
        "- `eq`: compare values → True/False.  \n",
        "- `max`, `mean`, `std`, `prod`, `unique`: summarize values.  \n"
      ],
      "metadata": {
        "id": "eDJrxloMJd4J"
      }
    },
    {
      "cell_type": "markdown",
      "source": [
        "## 🔹 5. Vectors & Linear Algebra\n",
        "\n",
        "Linear algebra is the **engine of ML**.  \n",
        "- Vectors = 1D arrays (directions)  \n",
        "- Matrices = 2D arrays (transformations)  \n",
        "- Operations like **cross product**, **matrix multiply**, and **SVD** are essential.  \n"
      ],
      "metadata": {
        "id": "-R_1hVuHJiPQ"
      }
    },
    {
      "cell_type": "code",
      "source": [
        "# Cross product\n",
        "v1 = torch.tensor([1., 0., 0.])   # x-axis\n",
        "v2 = torch.tensor([0., 1., 0.])   # y-axis\n",
        "print(\"cross(v2,v1):\", torch.linalg.cross(v2, v1))\n",
        "\n",
        "# Matrix multiplication\n",
        "m1 = torch.rand(2, 2)\n",
        "m2 = torch.tensor([[3., 0.], [0., 3.]])\n",
        "m3 = torch.linalg.matmul(m1, m2)\n",
        "\n",
        "print(\"\\nm1:\\n\", m1)\n",
        "print(\"m3 = m1 @ (3I):\\n\", m3)\n",
        "\n",
        "# Singular Value Decomposition\n",
        "U, S, Vh = torch.linalg.svd(m3)\n",
        "print(\"\\nSVD(m3):\")\n",
        "print(\"U:\\n\", U)\n",
        "print(\"S:\\n\", S)\n",
        "print(\"Vh:\\n\", Vh)\n"
      ],
      "metadata": {
        "colab": {
          "base_uri": "https://localhost:8080/"
        },
        "id": "9ANFugPhJj_T",
        "outputId": "ead78e29-c90d-4830-8d89-a456d7426ecb"
      },
      "execution_count": null,
      "outputs": [
        {
          "output_type": "stream",
          "name": "stdout",
          "text": [
            "cross(v2,v1): tensor([ 0.,  0., -1.])\n",
            "\n",
            "m1:\n",
            " tensor([[0.7864, 0.5132],\n",
            "        [0.8572, 0.8767]])\n",
            "m3 = m1 @ (3I):\n",
            " tensor([[2.3591, 1.5395],\n",
            "        [2.5715, 2.6300]])\n",
            "\n",
            "SVD(m3):\n",
            "U:\n",
            " tensor([[-0.6056, -0.7958],\n",
            "        [-0.7958,  0.6056]])\n",
            "S:\n",
            " tensor([4.6073, 0.4874])\n",
            "Vh:\n",
            " tensor([[-0.7542, -0.6566],\n",
            "        [-0.6566,  0.7542]])\n"
          ]
        }
      ]
    },
    {
      "cell_type": "markdown",
      "source": [
        "👉 **Key Idea:**  \n",
        "- Cross product → perpendicular vector.  \n",
        "- Matmul → matrix multiplication, core of neural nets.  \n",
        "- SVD → factorization into rotations + scales (used in PCA, compression).  \n"
      ],
      "metadata": {
        "id": "Guj56oUgJpiN"
      }
    },
    {
      "cell_type": "markdown",
      "source": [
        "# 🎯 Wrap-Up\n",
        "\n",
        "- **Data Types** → int vs float.  \n",
        "- **Math Ops** → elementwise.  \n",
        "- **Broadcasting** → smaller tensor expands.  \n",
        "- **Functions** → abs, clamp, trig, bitwise, compare.  \n",
        "- **Reductions** → max, mean, std, prod, unique.  \n",
        "- **Linear Algebra** → cross product, matrix multiplication, SVD.  \n"
      ],
      "metadata": {
        "id": "LAITzrEZJtc_"
      }
    }
  ]
}